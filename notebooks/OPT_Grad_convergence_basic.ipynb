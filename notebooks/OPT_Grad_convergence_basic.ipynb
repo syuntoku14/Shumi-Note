{
    "cells": [
        {
            "attachments": {},
            "cell_type": "markdown",
            "metadata": {},
            "source": [
                "# 勾配降下法の収束\n",
                "\n",
                "参考\n",
                "* [Gradient Descent: Convergence Analysis](https://www.stat.cmu.edu/~ryantibs/convexopt-F13/scribes/lec6.pdf)\n",
                "* [非凸最適化アルゴリズムとその計算量解析](https://www.ism.ac.jp/~mirai/sscoke/2024/marumo-lecture.pdf)\n",
                "\n",
                "---\n",
                "\n",
                "関数$f$は凸であり，微分可能であるとします．また，Lipschitz連続であり，$\\|\\nabla f(x)-\\nabla f(y)\\|_2 \\leq L\\|x-y\\|_2$を満たす$L$が存在するとします．このとき，勾配降下法をステップサイズ$t = 1 / L$で$k$回実行した時，得られる解は\n",
                "\n",
                "$$\n",
                "f\\left(x^{(k)}\\right)-f\\left(x^*\\right) \\leq \\frac{L \\left\\|x^{(0)}-x^*\\right\\|_2^2}{2k}\n",
                "$$\n",
                "\n",
                "を満たします．\n",
                "\n",
                "---"
            ]
        },
        {
            "attachments": {},
            "cell_type": "markdown",
            "metadata": {},
            "source": [
                "## 勾配降下法の収束の証明\n",
                "\n",
                "---\n",
                "\n",
                "**解析の定石**\n",
                "一般に，勾配法で解の列$(x_k)_k$が得られたとき，次の２つを示すことで収束を示していきます：\n",
                "\n",
                "1. $\\left\\|x_{k+1}-x_k\\right\\|$が大きいとき → 勾配更新によって目的関数が十分下がる\n",
                "2. $\\left\\|x_{k+1}-x_k\\right\\|$が小さい時 → 勾配のノルムが小さい\n",
                "\n",
                "を示し，どちらに転んでも嬉しい状況を作ります．\n",
                "\n",
                "---\n"
            ]
        },
        {
            "cell_type": "markdown",
            "metadata": {},
            "source": [
                "### 平滑性を利用して目的関数を上から抑える\n",
                "\n",
                "**上界補題**\n",
                "\n",
                "$\\nabla f$がLipschitz連続なので，$\\nabla^2 f(x) \\preceq L I$もしくは$\\nabla^2 f(x)-L I$が半負定値行列に成ります．これを使って$f$を二次の項まで分解すると，\n",
                "\n",
                "$$\n",
                "\\begin{aligned}\n",
                "f(y) & \\leq f(x)+\\nabla f(x)^T(y-x)+\\frac{1}{2} \\nabla^2 f(x)\\|y-x\\|_2^2 \\\\\n",
                "& \\leq f(x)+\\nabla f(x)^T(y-x)+\\frac{1}{2} L\\|y-x\\|_2^2\n",
                "\\end{aligned}\n",
                "$$\n",
                "\n",
                "が得られます．"
            ]
        },
        {
            "cell_type": "code",
            "execution_count": 18,
            "metadata": {},
            "outputs": [
                {
                    "data": {
                        "application/vnd.jupyter.widget-view+json": {
                            "model_id": "c7e8f4a0fe8645d385f5013831b1275e",
                            "version_major": 2,
                            "version_minor": 0
                        },
                        "text/plain": [
                            "interactive(children=(FloatSlider(value=-0.09999999999999998, description='y', max=0.5, min=-0.6), Output()), …"
                        ]
                    },
                    "metadata": {},
                    "output_type": "display_data"
                },
                {
                    "data": {
                        "text/plain": [
                            "<function __main__.plot_upper_bound(y)>"
                        ]
                    },
                    "execution_count": 18,
                    "metadata": {},
                    "output_type": "execute_result"
                }
            ],
            "source": [
                "import numpy as np\n",
                "import matplotlib.pyplot as plt\n",
                "from ipywidgets import interact\n",
                "\n",
                "# 適当な関数（非凸）を用意します\n",
                "xs = np.linspace(-0.6, 0.5, 30)\n",
                "\n",
                "def f(x):\n",
                "    return x ** 4 - 0.7 * x **2 + 0.1 * x + 1.5 * np.cos(10 * x) * 0.1 + 0.3\n",
                "\n",
                "def f_grad(x):\n",
                "    grad = 4 * x ** 3 - 1.4 * x + 0.1 - 1.5 * np.sin(10 * x)\n",
                "    return grad\n",
                "\n",
                "L = np.max(np.abs(f_grad(xs))) * 10\n",
                "\n",
                "def plot_upper_bound(y):\n",
                "    up = f(y) + f_grad(y) * (xs - y) + L / 2 * (xs - y) ** 2\n",
                "    plt.figure(figsize=(12, 6))\n",
                "    plt.subplot(1, 1, 1)\n",
                "    plt.plot(xs, f(xs), label=r\"$f$\")\n",
                "    plt.plot(xs, up, label=r\"upper\")\n",
                "\n",
                "    plt.grid()\n",
                "    plt.legend()\n",
                "    plt.ylim(-0.8, 0.8)\n",
                "    plt.xlabel(\"x\")\n",
                "\n",
                "    plt.show()\n",
                "\n",
                "interact(plot_upper_bound, y=(-0.6, 0.5, 0.1))"
            ]
        },
        {
            "cell_type": "markdown",
            "metadata": {},
            "source": [
                "### 停留点を出す\n",
                "\n",
                "更新式を思い出すと，$\\nabla f(x) = L(x - x^+)$なので，上界補題より，\n",
                "\n",
                "$$\n",
                "f\\left(x^{+}\\right) \\leq f(x)+\\nabla f(x)^T\\left(x^{+}-x\\right)+\\frac{1}{2} L\\left\\|x^{+}-x\\right\\|_2^2\n",
                " = - \\frac{1}{2} L\\left\\|x^{+}-x\\right\\|_2^2\n",
                "$$\n",
                "なので，\n",
                "\n",
                "1. $f\\left(x^{+}\\right) - f(x) \\leq -\\frac{L}{2} \\|x^+ - x\\|_2^2$を得ます．\n",
                "    * すなわち，**更新時の差が大きい場合は，関数値の減少量が大きい**ことが言えます．\n",
                "2. 一方で，$\\frac{1}{2L}\\|\\nabla f(x)\\|^2 = \\frac{L}{2} \\|x^+ - x\\|^2$もなりたちます．\n",
                "    * つまり，**更新時の差が小さい場合は，勾配ノルムが小さい**ことも言えます．\n",
                "\n",
                "よって，この２つを組み合わせると，\n",
                "$$\n",
                "\\frac{1}{2L} \\|\\nabla f(x_k)\\|^2 \\leq f(x_k) - f(x_{k+1})\n",
                "$$\n",
                "なので，$k$について足し合わせると，\n",
                "$$\n",
                "\\min_{0 \\leq i < k} \\|\\nabla f(x_i)\\|^2\n",
                "\\leq \\frac{1}{k} \\sum^{k-1}_{i=0} \\|\\nabla f(x_i)\\|^2\n",
                "\\leq \\frac{2L}{k}\\underbrace{\\left(f(x_0) - \\inf_{x \\in \\mathbb{R}^d} f(x)\\right)}_{\\leq \\Delta}\n",
                "$$\n",
                "\n",
                "が成り立ちます．まとめると，\n",
                "$$\n",
                "\\min_{0 \\leq i < k} \\|\\nabla f(x_i)\\|\n",
                "\\leq \\sqrt{\\frac{2L \\Delta}{k}}\n",
                "$$\n",
                "が得られ，停留点に$1/\\sqrt{k}$で落ちていくことがわかります．"
            ]
        },
        {
            "cell_type": "markdown",
            "metadata": {},
            "source": [
                "### 停留点と最適解を関連させる\n",
                "\n",
                "* [The Polyak-Lojasiewicz (PL) Condition](https://www.stat.cmu.edu/~siva/teaching/725/lec13.pdf)\n",
                "\n",
                "強凸な場合，後は停留点と最適解はPL条件で関連付けられます．\n",
                "\n",
                "---\n",
                "\n",
                "**補題** $\\alpha$-強凸な関数は，$\\alpha$-PL条件を満たします．\n",
                "\n",
                "次の$\\alpha$-強凸関数を考えましょう：\n",
                "$$\n",
                "\\begin{aligned}\n",
                "f\\left(x^*\\right) \n",
                "&\\geq f(x)+\\nabla f(x)^t\\left(x^*-x\\right) + \\frac{\\alpha}{2}\\|x - x^*\\|^2\\\\\n",
                "&\\geq f(x) - \\frac{1}{2\\alpha}\\|\\nabla f(x)\\|^2\n",
                "\\end{aligned}\n",
                "$$\n",
                "です．ここで，二行目は右辺を$x^*$が変数の二次方程式として考えて，それを解いてます．\n",
                "よって，明らかに\n",
                "$$\n",
                "f(x) - f\\left(x^*\\right) \n",
                "\\leq \\frac{1}{2\\alpha}\\|\\nabla f(x)\\|^2\n",
                "$$\n",
                "が成り立つので，停留点に近づくと最適解に近くなることも言えます．\n"
            ]
        },
        {
            "cell_type": "markdown",
            "metadata": {},
            "source": [
                "### 補足：一般の凸のケース\n",
                "\n",
                "こっちのほうがよく出てきますが，上の方がすぐに出せるので僕は好き（強凸性使うけど）\n",
                "\n",
                "関数が凸なとき，最適解$x^*$について，\n",
                "\n",
                "$$\n",
                "\\begin{aligned}\n",
                "& f\\left(x^*\\right) \\geq f(x)+\\nabla f(x)^T\\left(x^*-x\\right) \\\\\n",
                "\\Rightarrow& f(x) - f\\left(x^*\\right)\\leq \\nabla f(x)^T\\left(x-x^*\\right)\n",
                "\\end{aligned}\n",
                "$$\n",
                "\n",
                "が成り立ちます．\n",
                "$$\n",
                "\\frac{1}{2L} \\|\\nabla f(x_k)\\|^2 \\leq f(x_k) - f(x_{k+1})\n",
                "$$\n",
                "を使って変形すると（$t= 1 / L$），\n",
                "\n",
                "$$\n",
                "\\begin{aligned}\n",
                "& f\\left(x^{+}\\right) \\leq f\\left(x^*\\right)+\\nabla f(x)^T\\left(x-x^*\\right)-\\frac{t}{2}\\|\\nabla f(x)\\|_2^2 \\\\\n",
                "& f\\left(x^{+}\\right)-f\\left(x^*\\right) \\leq \\frac{1}{2 t}\\left(2 t \\nabla f(x)^T\\left(x-x^*\\right)-t^2\\|\\nabla f(x)\\|_2^2\\right) \\\\\n",
                "& f\\left(x^{+}\\right)-f\\left(x^*\\right) \\leq \\frac{1}{2 t}\\left(2 t \\nabla f(x)^T\\left(x-x^*\\right)-t^2\\|\\nabla f(x)\\|_2^2-\\left\\|x-x^*\\right\\|_2^2+\\left\\|x-x^*\\right\\|_2^2\\right) \\\\\n",
                "& f\\left(x^{+}\\right)-f\\left(x^*\\right) \\leq \\frac{1}{2 t}\\left(\\left\\|x-x^*\\right\\|_2^2-\\left\\|x-t \\nabla f(x)-x^*\\right\\|_2^2\\right)\n",
                "\\end{aligned}\n",
                "$$\n",
                "\n",
                "です．$x^{+}=x-t \\nabla f(x)$なので，\n",
                "\n",
                "$$\n",
                "f\\left(x^{+}\\right)-f\\left(x^*\\right) \\leq \\frac{1}{2 t}\\left(\\left\\|x-x^*\\right\\|_2^2-\\left\\|x^{+}-x^*\\right\\|_2^2\\right)\n",
                "$$\n",
                "\n",
                "が成り立ちます．イテレーション全体で足し合わせば，\n",
                "\n",
                "$$\n",
                "\\begin{aligned}\n",
                "\\sum_{i=1}^k f\\left(x^{(i)}-f\\left(x^*\\right)\\right. & \\leq \\sum_{i=1}^k \\frac{1}{2 t}\\left(\\left\\|x^{(i-1)}-x^*\\right\\|_2^2-\\left\\|x^{(i)}-x^*\\right\\|_2^2\\right) \\\\\n",
                "& =\\frac{1}{2 t}\\left(\\left\\|x^{(0)}-x^*\\right\\|_2^2-\\left\\|x^{(k)}-x^*\\right\\|_2^2\\right) \\\\\n",
                "& \\leq \\frac{1}{2 t}\\left(\\left\\|x^{(0)}-x^*\\right\\|_2^2\\right)\n",
                "\\end{aligned}\n",
                "$$\n",
                "\n",
                "であり，$x^{(k)}$は毎回必ず$x^*$に近づくので，\n",
                "\n",
                "$$\n",
                "\\begin{aligned}\n",
                "f\\left(x^{(k)}\\right)-f\\left(x^*\\right) & \\leq \\frac{1}{k} \\sum_{i=1}^k f\\left(x^{(i)}\\right)-f\\left(x^*\\right) \\\\\n",
                "& \\leq \\frac{\\left\\|x^{(0)}-x^*\\right\\|_2^2}{2 t k}\n",
                "\\end{aligned}\n",
                "$$\n",
                "\n",
                "を得ます．"
            ]
        },
        {
            "cell_type": "markdown",
            "metadata": {},
            "source": [
                "<!-- ## 強凸関数での勾配のノルムのバウンド\n",
                "\n",
                "全体的に間違い\n",
                "\n",
                "参考:\n",
                "* [Beck本](https://epubs.siam.org/doi/10.1137/1.9781611974997)のstrong convexityの応用（Theorem 5.25など）\n",
                "\n",
                "[劣勾配法の解析](OPT_Grad_subgradient.ipynb)などを使えば，$f(x^{(k)}) - f(x^*)$を上からバウンドすることができます．\n",
                "さらに，$f$が特に強凸関数ならば，smoothnessの係数を出さなくても勾配について収束を言うことができます．\n",
                "\n",
                "準備:\n",
                "* $f$を微分可能な強凸関数\n",
                "* 射影勾配法：$x^{k+1} = \\arg\\min_{x \\in \\mathcal{C}} f(x^k) + \\langle \\nabla f(x^k), x - x^k\\rangle + \\frac{L}{2} \\|x - x^k\\|^2$\n",
                "    * これは$x^{k+1} = \\arg\\min_{x \\in \\mathbb{R}^d} f(x^k) + \\langle \\nabla f(x^k), x - x^k\\rangle + \\mathbb{I}_C(x) + \\frac{L}{2} \\|x - x^k\\|^2$\n",
                "    * これは$x^{k+1} = \\operatorname{Proj}_{\\mathcal{C}} (x^k - \\frac{1}{L} \\nabla f(x^k))$と同じです．\n",
                "    * $T_L(x^k) = x^{k+1}$とします． \n",
                "    * また，$\\psi(u) = f(y) + \\langle \\nabla f(y), u - y\\rangle + \\mathbb{I}_\\mathcal{C}(u) + \\frac{L}{2} \\|u - y\\|^2$とします．あきらかに，$T_L(y) = \\arg\\min_{u \\in \\mathbb{R}^d} \\psi(u)$です．\n",
                "\n",
                "$\\varepsilon \\geq f(x) - f(x^*)$を満たす$\\varepsilon$最適な$x$を考えましょう．このとき，$f$は強凸なので\n",
                "$\\psi(u)$は$u$について$L$-強凸なので，\n",
                "$$\\psi(x) - \\psi(T_L(y)) \\geq \\frac{L}{2}\\|x - T_L(y)\\|^2$$\n",
                "が成立します（証明はBeck本Theorem 5.25）． -->"
            ]
        },
        {
            "cell_type": "code",
            "execution_count": null,
            "metadata": {},
            "outputs": [],
            "source": []
        }
    ],
    "metadata": {
        "kernelspec": {
            "display_name": ".venv",
            "language": "python",
            "name": "python3"
        },
        "language_info": {
            "codemirror_mode": {
                "name": "ipython",
                "version": 3
            },
            "file_extension": ".py",
            "mimetype": "text/x-python",
            "name": "python",
            "nbconvert_exporter": "python",
            "pygments_lexer": "ipython3",
            "version": "3.13.2"
        },
        "orig_nbformat": 4
    },
    "nbformat": 4,
    "nbformat_minor": 2
}