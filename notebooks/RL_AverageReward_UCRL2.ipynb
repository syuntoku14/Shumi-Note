{
 "cells": [
  {
   "cell_type": "markdown",
   "metadata": {},
   "source": [
    "# 平均報酬におけるUCRL2アルゴリズム\n",
    "\n",
    "参考：\n",
    "* [Near-optimal Regret Bounds for Reinforcement Learning](https://www.jmlr.org/papers/volume11/jaksch10a/jaksch10a.pdf)\n",
    "* [Bandit Algorithms](https://tor-lattimore.com/downloads/book/book.pdf)の38章\n",
    "\n",
    "今回は平均報酬でMinimax regretを達成するアルゴリズムを学びます．\n",
    "\n",
    "**注意: 今回はSpanの情報などは必要ありません．しかし，半径に依存したバウンドになります．**"
   ]
  },
  {
   "cell_type": "markdown",
   "metadata": {},
   "source": [
    "表記：\n",
    "\n",
    "* MDP：$M=(\\mathcal{S}, \\mathcal{A}, P, r, \\mu)$\n",
    "* 平均報酬（ゲイン）：$\\rho_s^\\pi=\\lim _{n \\rightarrow \\infty} \\frac{1}{n} \\sum_{t=1}^n \\mathbb{E}^\\pi\\left[r_{A_t}\\left(S_t\\right) \\mid S_1=s\\right]$,\n",
    "    * この平均は存在するとは限りません．なので，次のlimsupを考える場合があります．これは必ず存在します．$\\bar{\\rho}_s^\\pi=\\limsup _{n \\rightarrow \\infty} \\frac{1}{n} \\sum_{t=1}^n \\mathbb{E}^\\pi\\left[r_{A_t}\\left(S_t\\right) \\mid S_1=s\\right]$\n",
    "    * 最適ゲイン：$\\rho^*=\\max _{s \\in \\mathcal{S}} \\sup _\\pi \\bar{\\rho}_s^\\pi$\n",
    "    * Communicatingではない場合，最適ゲインが定数ではない場合があります．\n",
    "    * メモリーレス方策$\\pi$のゲインは次を満たします．$\\rho^\\pi=\\lim _{n \\rightarrow \\infty} \\frac{1}{n} \\sum_{t=1}^n P_\\pi^{t-1} r_\\pi=P_\\pi^* r_\\pi$．ここで，$P_\\pi^*=\\lim _{n \\rightarrow \\infty} \\frac{1}{n} \\sum_{t=1}^n P_\\pi^{t-1}$は定常遷移行列です．\n",
    "* $v_\\pi^{(k)}=\\sum_{t=1}^k P_\\pi^{t-1}\\left(r_\\pi-\\rho^\\pi\\right)$を，$k$ステップ目までの過剰報酬とします．\n",
    "    * （差分）価値関数は$v_\\pi=\\lim _{n \\rightarrow \\infty} \\frac{1}{n} \\sum_{k=1}^n v_\\pi^{(k)}=\\left(\\left(I-P_\\pi+P_\\pi^*\\right)^{-1}-P_\\pi^*\\right) r_\\pi$で定義されます．\n",
    "    * ちなみに任意のメモリーレス方策について，$\\rho^\\pi+v_\\pi=r_\\pi+P_\\pi v_\\pi$が成立します．\n",
    "* スパン：$\\operatorname{span}(v)=\\max _{s \\in \\mathcal{S}} v(s)-\\min _{s \\in \\mathcal{S}} v(s)$\n",
    "* MDPの半径：$D(M)=\\max _{s \\neq s^{\\prime}} \\min _{\\pi \\in \\Pi_{\\mathrm{DM}}} \\mathbb{E}^\\pi\\left[\\min \\left\\{t \\geq 1: S_t=s\\right\\} \\mid S_1=s^{\\prime}\\right]-1$\n",
    "    * 有限な半径のMDPを特にCommunicatingと呼びます．これはCommunicatingであることの必要十分条件です．（Exercise参照）\n",
    "    * このとき，最適な平均報酬は状態に依存しません：$\\rho^*(M):=\\rho^*(M, s):=\\max _\\pi \\rho(M, \\pi, s)$.\n",
    "    * 半径は必ず$\\log _A(S)-3$以上になります．\n",
    "\n",
    "### ベルマン方程式について\n",
    "\n",
    "* 貪欲方策：$\\pi_v(s)=\\operatorname{argmax}_{a \\in \\mathcal{A}} r_a(s)+\\left\\langle P_a(s), v\\right\\rangle$\n",
    "* ベルマン最適方程式：$\\rho+v(s)=\\max _{a \\in \\mathcal{A}}\\left(r_a(s)+\\left\\langle P_a(s), v\\right\\rangle\\right) \\quad$ for all $s \\in \\mathcal{S}$\n",
    "\n",
    "次が成立します．\n",
    "\n",
    "---\n",
    "\n",
    "* $(\\rho, v)$がベルマン最適方程式を満たす場合，$\\rho=\\rho^*$ かつ $\\pi_v$が最適方策になります．\n",
    "* 決定的かつメモリーレスな最適方策が存在します．\n",
    "\n",
    "**証明**\n",
    "\n",
    "$(\\rho, v)$をベルマン最適方程式を満たすとします．また，$\\pi^*=\\pi_v$を$v$についての貪欲方策とします．\n",
    "このとき，\n",
    "\n",
    "$$\n",
    "\\rho^{\\pi^*}=\\lim _{n \\rightarrow \\infty} \\frac{1}{n} \\sum_{t=1}^n P_{\\pi^*}^{t-1} r_{\\pi^*}=\\lim _{n \\rightarrow \\infty} \\frac{1}{n} \\sum_{t=1}^n P_{\\pi^*}^{t-1}\\left(\\rho \\mathbf{1}+v-P_{\\pi^*} v\\right)=\\rho \\mathbf{1} .\n",
    "$$\n",
    "\n",
    "\n",
    "\n",
    "---\n"
   ]
  },
  {
   "cell_type": "markdown",
   "metadata": {},
   "source": [
    "## UCRL2アルゴリズム\n",
    "\n",
    "![UCRL2](figs/UCRL2.png)\n",
    "\n",
    "UCRL2アルゴリズムではExtended value iterationアルゴリズムを走らせるので，先にこちらを紹介します．\n",
    "\n",
    "### Extended Value Iterationアルゴリズム\n",
    "\n",
    "* $u_i(s)$を$i$イテレーション目の状態の価値とします．\n",
    "* $u'_i(s)$をnormalizeされた価値とします\n",
    "\n",
    "Extended value iterationは次を繰り返します．\n",
    "\n",
    "$$\n",
    "\\begin{aligned}\n",
    "u_0(s) & =0, \\\\\n",
    "u_{i+1}(s) & =\\max _{a \\in \\mathcal{A}}\\left\\{\\tilde{r}_k(s, a)+\\max _{p(\\cdot) \\in \\mathcal{P}(s, a)}\\left\\{\\sum_{s^{\\prime} \\in \\mathcal{S}} p\\left(s^{\\prime}\\right) \\cdot u_i\\left(s^{\\prime}\\right)\\right\\}\\right\\}\n",
    "\\end{aligned}\n",
    "$$\n",
    "\n",
    "ここで，$\\tilde{r}_k$は下の集合の内最大のもの，$\\mathcal{P}$は下の集合そのものを表します．\n",
    "$$\n",
    "\\begin{aligned}\n",
    "\\left|\\tilde{r}(s, a)-\\hat{r}_k(s, a)\\right| & \\leq \\sqrt{\\frac{7 \\log \\left(2 S A t_k / \\delta\\right)}{2 \\max \\left\\{1, N_k(s, a)\\right\\}}} \\\\\n",
    "\\left\\|\\tilde{p}(\\cdot \\mid s, a)-\\hat{p}_k(\\cdot \\mid s, a)\\right\\|_1 & \\leq \\sqrt{\\frac{14 S \\log \\left(2 A t_k / \\delta\\right)}{\\max \\left\\{1, N_k(s, a)\\right\\}}} .\n",
    "\\end{aligned}\n",
    "$$\n",
    "\n",
    "$\\max_p$は線形計画法で解くことができます．実際，これは$s, a$-rectangularなRMDPの逆版なので，次を解けばできます：\n",
    "\n",
    "$$\n",
    "\\begin{aligned}\n",
    "&\\max _{p, t \\in \\mathbb{R}^{S+S}}\\sum_{s^{\\prime} \\in \\mathcal{S}} p\\left(s^{\\prime}\\right) \\cdot u_i\\left(s^{\\prime}\\right)\\\\\n",
    "\\text{ such that }\n",
    "&p(s') - t(s') \\leq \\hat{p}_k(s'\\mid s, a)\\\\\n",
    "&-p(s') - t(s') \\leq -\\hat{p}_k(s'\\mid s, a) \\\\\n",
    "&\\boldsymbol{e}_S^\\top t \\leq \\beta \\\\\n",
    "&t \\geq 0 \\\\\n",
    "&\\boldsymbol{e}_S^\\top p = 1,\\; p \\geq 0\n",
    "\\end{aligned}\n",
    "$$\n",
    "\n",
    "この価値反復法は\n",
    "$$\n",
    "\\max _{s \\in S}\\left\\{u_{i+1}(s)-u_i(s)\\right\\}-\\min _{s \\in S}\\left\\{u_{i+1}(s)-u_i(s)\\right\\}<\\frac{1}{\\sqrt{t_k}}\n",
    "$$\n",
    "で停止します．"
   ]
  },
  {
   "cell_type": "markdown",
   "metadata": {},
   "source": [
    "### Extended Value Iterationの性質\n",
    "\n",
    "---\n",
    "\n",
    "次が成立します：\n",
    "\n",
    "$$\n",
    "\\max _s u_i(s)-\\min _s u_i(s) \\leq D\n",
    "$$\n",
    "\n",
    "**証明**\n",
    "\n",
    "まず，$u_i(s)$は$\\tilde{M}^+$において，状態$s$から始まる累積期待報酬和であることを思い出しましょう．\n"
   ]
  },
  {
   "cell_type": "markdown",
   "metadata": {},
   "source": [
    "## UCRL2の解析\n",
    "\n",
    "UCRL2のリグレットを導出します．\n",
    "$k$エピソード目のリグレットを\n",
    "\n",
    "$$\n",
    "\\Delta_k:=\\sum_{s, a} \\nu_k(s, a)\\left(\\rho^*-\\bar{r}(s, a)\\right)\n",
    "$$\n",
    "\n",
    "として定義しましょう．ここで，$\\nu_k$はエピソード内で$(s, a)$を訪れた回数です．\n",
    "\n",
    "---\n",
    "\n",
    "このとき，次が高確率で成立します．\n",
    "\n",
    "$$\n",
    "\\sum_k \\Delta_k+\\sqrt{\\frac{5}{2} T \\log \\left(\\frac{8 T}{\\delta}\\right)}\n",
    "$$\n",
    "\n",
    "**証明**\n",
    "\n",
    "Hoeffdingの不等式から，$T$ステップ間の状態行動のカウント$N(s, a)$に対して，\n",
    "$$\n",
    "\\mathbb{P}\\left\\{\\left.\\sum_{t=1}^T r_t \\leq \\sum_{s, a} N(s, a) \\bar{r}(s, a)-\\sqrt{\\frac{5}{8} T \\log \\left(\\frac{8 T}{\\delta}\\right)} \\right\\rvert\\,(N(s, a))_{s, a}\\right\\} \\leq\\left(\\frac{\\delta}{8 T}\\right)^{5 / 4}<\\frac{\\delta}{12 T^{5 / 4}}\n",
    "$$\n",
    "\n",
    "が成立します（5は多分$T^{5/4}$でlog取ったら出てくる）．\n",
    "よって，\n",
    "$$\n",
    "\\Delta\\left(s_1, T\\right)=T \\rho^*-\\sum_{t=1}^T r_t<T \\rho^*-\\sum_{s, a} N(s, a) \\bar{r}(s, a)+\\sqrt{\\frac{5}{8} T \\log \\left(\\frac{8 T}{\\delta}\\right)}\n",
    "$$\n",
    "が確率$1-\\frac{\\delta}{12 T^{5 / 4}}$以上で成立します．\n",
    "後は書き直せば終わりです．\n",
    "\n",
    "---\n"
   ]
  },
  {
   "cell_type": "markdown",
   "metadata": {},
   "source": [
    "\n",
    "期待リグレットを出す場合は真のMDPが$\\mathfrak{M}$に入っていない場合のリグレットを出す必要がありますが，面倒なので省略します．\n",
    "\n",
    "### $M \\in \\mathfrak{M}_k$の場合のリグレット　\n",
    "\n",
    "Optimismは後で示します．\n",
    "先にOptimismが成立している場合のリグレットを出してしまいましょう．\n",
    "まず，Extended Value Iterationの仕組みから，\n",
    "\n",
    "$$\n",
    "\\tilde{\\rho}_k \\geq \\rho^*-\\frac{1}{\\sqrt{t_k}}\n",
    "$$\n",
    "\n",
    "が成立します．よって，\n",
    "$$\n",
    "\\Delta_k \\leq \\sum_{s, a} v_k(s, a)\\left(\\rho^*-\\bar{r}(s, a)\\right) \\leq \\sum_{s, a} v_k(s, a)\\left(\\tilde{\\rho}_k-\\bar{r}(s, a)\\right)+\\sum_{s, a} \\frac{v_k(s, a)}{\\sqrt{t_k}}\n",
    "$$\n",
    "\n",
    "が成り立ちます．\n"
   ]
  },
  {
   "cell_type": "markdown",
   "metadata": {},
   "source": [
    "## 実験\n",
    "\n",
    "UCRL2を実装してみましょう．\n",
    "[Achieving Tractable Minimax Optimal Regret in Average Reward MDPs](https://arxiv.org/abs/2406.01234) のriver swim環境で挙動を見ます．"
   ]
  },
  {
   "cell_type": "code",
   "execution_count": 1,
   "metadata": {},
   "outputs": [
    {
     "name": "stdout",
     "output_type": "stream",
     "text": [
      "状態数： 3\n",
      "行動数： 2\n"
     ]
    }
   ],
   "source": [
    "import numpy as np\n",
    "import jax.numpy as jnp\n",
    "from jax.random import PRNGKey\n",
    "import jax\n",
    "from typing import NamedTuple, Optional\n",
    "\n",
    "key = PRNGKey(0)\n",
    "\n",
    "S = 3  # 状態集合のサイズ\n",
    "A = 2  # 行動集合のサイズ．LEFTが0, RIGHTが1とします\n",
    "S_set = jnp.arange(S)  # 状態集合\n",
    "A_set = jnp.arange(A)  # 行動集合\n",
    "\n",
    "\n",
    "# 報酬行列（論文中では確率的ですが，今回は面倒なので決定的にします）\n",
    "rew = np.zeros((S, A))\n",
    "rew[0, 0] = 0.05\n",
    "rew[-1, 1] = 0.95\n",
    "rew = jnp.array(rew)\n",
    "assert rew.shape == (S, A)\n",
    "\n",
    "\n",
    "# 遷移確率行列\n",
    "P = np.zeros((S, A, S))\n",
    "for s in range(1, S-1):\n",
    "    P[s, 0, s-1] = 1  # LEFT\n",
    "    P[s, 1, s-1] = 0.05  # RIGHT\n",
    "    P[s, 1, s] = 0.6  # RIGHT\n",
    "    P[s, 1, s+1] = 0.35  # RIGHT\n",
    "\n",
    "# at s1\n",
    "P[0, 0, 0] = 1  # LEFT\n",
    "P[0, 1, 0] = 0.6  # RIGHT\n",
    "P[0, 1, 1] = 0.4  # RIGHT\n",
    "P[-1, 0, -2] = 1  # LEFT\n",
    "P[-1, 1, -2] = 0.05  # RIGHT\n",
    "P[-1, 1, -1] = 0.95  # RIGHT\n",
    "\n",
    "P = P.reshape(S, A, S)\n",
    "P = jnp.array(P)\n",
    "np.testing.assert_allclose(P.sum(axis=-1), 1, atol=1e-6)  # ちゃんと確率行列になっているか確認します\n",
    "\n",
    "class MDP(NamedTuple):\n",
    "    S_set: jnp.array  # 状態集合\n",
    "    A_set: jnp.array  # 行動集合\n",
    "    rew: jnp.array  # 報酬行列\n",
    "    P: jnp.array  # 遷移確率行列\n",
    "\n",
    "    @property\n",
    "    def S(self) -> int:  # 状態空間のサイズ\n",
    "        return len(self.S_set)\n",
    "\n",
    "    @property\n",
    "    def A(self) -> int:  # 行動空間のサイズ\n",
    "        return len(self.A_set)\n",
    "\n",
    "\n",
    "mdp = MDP(S_set, A_set, rew, P)\n",
    "\n",
    "print(\"状態数：\", mdp.S)\n",
    "print(\"行動数：\", mdp.A)"
   ]
  },
  {
   "cell_type": "code",
   "execution_count": 2,
   "metadata": {},
   "outputs": [],
   "source": [
    "from scipy.optimize import linprog\n",
    "import numpy as np\n",
    "\n",
    "\n",
    "def solve_optimistic_PV(count_next_SAS: np.ndarray, mdp: MDP, V: np.ndarray, tk: int, delta: float):\n",
    "    def bonus(count_next_S: np.ndarray):\n",
    "        # 論文のパラメータはちょっといじります\n",
    "        return np.sqrt(np.log(2 * mdp.A * tk / delta) / np.maximum(1, count_next_S.sum()))\n",
    "        # return np.sqrt(14*mdp.S*np.log(2 * mdp.A * tk / delta) / np.maximum(1, count_next_S.sum()))\n",
    "\n",
    "    def solve_per_sa(count_next_S):\n",
    "        est_P_sa = count_next_S / np.maximum(1, count_next_S.sum())\n",
    "\n",
    "        c = np.hstack([-V, np.zeros(S)])  # maximize PV\n",
    "        A_ub = np.hstack([np.eye(mdp.S), -np.eye(mdp.S)])\n",
    "        nA_ub = np.hstack([-np.eye(mdp.S), -np.eye(mdp.S)])\n",
    "        tA_ub = np.hstack([np.zeros(mdp.S), np.ones(mdp.S)])\n",
    "        A_ub = np.vstack([A_ub, nA_ub, tA_ub])\n",
    "        b_ub = np.hstack([est_P_sa, -est_P_sa, np.array([bonus(count_next_S)])])\n",
    "\n",
    "        A_eq = np.hstack([np.ones(mdp.S), np.zeros(mdp.S)]).reshape(1, -1)  # 総和が1になる制約\n",
    "        b_eq = np.array([1.0])  # 総和は1\n",
    "        res = linprog(c, A_ub, b_ub, A_eq, b_eq, bounds=(0, None)) \n",
    "        return -res.fun\n",
    "\n",
    "    PV = np.zeros((mdp.S, mdp.A))\n",
    "    for s in range(mdp.S):\n",
    "        for a in range(mdp.A):\n",
    "            count_next_S = count_next_SAS[s, a]\n",
    "            PV[s, a] = solve_per_sa(count_next_S)\n",
    "    return jnp.array(PV)\n",
    "    \n",
    "\n",
    "ref_state = 0 \n",
    "\n",
    "def ExtendedValueIteration(count_SAS: jnp.ndarray, mdp: MDP, tk: int, delta: float = 0.9, tol: float = 1e-5) -> jnp.array:\n",
    "    def condition_fun(nQ_Q):\n",
    "        nQ, Q = nQ_Q\n",
    "        nbias = nQ.max(axis=1)  # S -> R\n",
    "        bias = Q.max(axis=1)  # S -> R\n",
    "        span_diff = (nbias - bias).max()\n",
    "        return span_diff > tol\n",
    "\n",
    "    def body_fun(nQ_Q):\n",
    "        Q, _ = nQ_Q\n",
    "        next_v = solve_optimistic_PV(count_SAS, mdp=mdp, V=Q.max(axis=1), tk=tk, delta=delta)\n",
    "        gain = Q[ref_state].max()\n",
    "        nQ = mdp.rew + next_v - gain\n",
    "        return (nQ, Q)\n",
    "\n",
    "    init_Q = jnp.zeros((mdp.S, mdp.A))\n",
    "    nQ_Q = (init_Q, init_Q)\n",
    "    nQ_Q = body_fun(nQ_Q)\n",
    "    while condition_fun(nQ_Q):\n",
    "        nQ_Q = body_fun(nQ_Q)\n",
    "    return nQ_Q[0]\n"
   ]
  },
  {
   "cell_type": "code",
   "execution_count": 3,
   "metadata": {},
   "outputs": [
    {
     "data": {
      "text/plain": [
       "Array([[3.       , 3.       ],\n",
       "       [1.4884808, 3.       ],\n",
       "       [3.       , 3.       ]], dtype=float32)"
      ]
     },
     "execution_count": 3,
     "metadata": {},
     "output_type": "execute_result"
    }
   ],
   "source": [
    "# test\n",
    "count_SAS = np.zeros((mdp.S, mdp.A, mdp.S)) \n",
    "count_SAS[1, 0] = 500\n",
    "V = np.array([0.2, 1.0, 3.0])\n",
    "solve_optimistic_PV(count_SAS, mdp=mdp, V=V, tk=10, delta=0.1)"
   ]
  },
  {
   "cell_type": "code",
   "execution_count": 4,
   "metadata": {},
   "outputs": [],
   "source": [
    "import random\n",
    "\n",
    "def sample_next_state(mdp: MDP, s: int, a: int):\n",
    "    \"\"\" sample next state according to the transition matrix P\n",
    "    Args:\n",
    "        mdp: MDP\n",
    "        s: int\n",
    "        a: int\n",
    "    Returns:\n",
    "        next_s: int\n",
    "    \"\"\"\n",
    "    probs = np.array(mdp.P[s, a])\n",
    "    return np.random.choice(mdp.S_set, p=probs)\n",
    "\n",
    "\n",
    "def sample_eps_greedy_act(mdp: MDP, q_s: np.array, eps: float):\n",
    "    if random.random() < eps:\n",
    "        return random.randint(0, mdp.A-1)\n",
    "    else:\n",
    "        return q_s.argmax()"
   ]
  },
  {
   "cell_type": "code",
   "execution_count": 5,
   "metadata": {},
   "outputs": [],
   "source": [
    "# 最適ゲインを評価する用\n",
    "\n",
    "@jax.jit\n",
    "def compute_optimal_gain(mdp: MDP, tol: float = 1e-6) -> jnp.array:\n",
    "    ref_state = 0 \n",
    "    def condition_fun(nV_V):\n",
    "        nV, V = nV_V\n",
    "        span_diff = (nV - V).max()\n",
    "        return span_diff > tol\n",
    "\n",
    "    def body_fun(nV_V):\n",
    "        V, _ = nV_V\n",
    "        gain = V[ref_state]\n",
    "        next_v = mdp.P @ V\n",
    "        nV = (mdp.rew + next_v).max(axis=1) - gain\n",
    "        return (nV, V)\n",
    "\n",
    "    init_V = jnp.zeros((mdp.S))\n",
    "    nV_V = body_fun((init_V, init_V))\n",
    "    V, _ = jax.lax.while_loop(condition_fun, body_fun, nV_V)\n",
    "    return V[ref_state]\n",
    "\n",
    "optimal_gain = compute_optimal_gain(mdp)"
   ]
  },
  {
   "cell_type": "code",
   "execution_count": 6,
   "metadata": {},
   "outputs": [
    {
     "name": "stderr",
     "output_type": "stream",
     "text": [
      "  0%|          | 0/32 [00:00<?, ?it/s]"
     ]
    },
    {
     "name": "stderr",
     "output_type": "stream",
     "text": [
      "100%|██████████| 32/32 [02:21<00:00,  4.41s/it]\n"
     ]
    }
   ],
   "source": [
    "from tqdm import tqdm\n",
    "\n",
    "K = 32\n",
    "init_s = 0\n",
    "t = 1\n",
    "\n",
    "s = init_s\n",
    "count_SAS = np.zeros((S, A, S))\n",
    "total_rew = 0\n",
    "regrets = []\n",
    "\n",
    "for epi in tqdm(range(K)):\n",
    "    epi_count_SAS = np.zeros((S, A, S))\n",
    "    Q = ExtendedValueIteration(count_SAS, mdp, t)\n",
    "\n",
    "    # 探索をします　\n",
    "    while True:\n",
    "        a = sample_eps_greedy_act(mdp, Q[s], 0)\n",
    "        total_rew += mdp.rew[s, a]\n",
    "        if epi_count_SAS[s, a].sum() >= max(1, count_SAS[s, a].sum()):\n",
    "            break\n",
    "        next_s = sample_next_state(mdp, s, a)\n",
    "        epi_count_SAS[s, a, next_s] += 1\n",
    "        s = next_s\n",
    "        t = t + 1\n",
    "\n",
    "        # リグレットを計算します\n",
    "        regret = t * optimal_gain - total_rew\n",
    "        regrets.append(regret)\n",
    "\n",
    "    count_SAS += epi_count_SAS"
   ]
  },
  {
   "cell_type": "code",
   "execution_count": 9,
   "metadata": {},
   "outputs": [
    {
     "name": "stdout",
     "output_type": "stream",
     "text": [
      "[0.84650034 2.4759972  4.941755  ] 0.81846076\n"
     ]
    },
    {
     "data": {
      "text/plain": [
       "[<matplotlib.lines.Line2D at 0x7fe8351db890>]"
      ]
     },
     "execution_count": 9,
     "metadata": {},
     "output_type": "execute_result"
    },
    {
     "data": {
      "image/png": "[encoded data removed]",
      "text/plain": [
       "<Figure size 640x480 with 1 Axes>"
      ]
     },
     "metadata": {},
     "output_type": "display_data"
    }
   ],
   "source": [
    "import matplotlib.pyplot as plt\n",
    "\n",
    "print(Q.max(axis=-1), optimal_gain)\n",
    "plt.plot(regrets)"
   ]
  },
  {
   "cell_type": "code",
   "execution_count": null,
   "metadata": {},
   "outputs": [],
   "source": []
  }
 ],
 "metadata": {
  "kernelspec": {
   "display_name": ".venv",
   "language": "python",
   "name": "python3"
  },
  "language_info": {
   "codemirror_mode": {
    "name": "ipython",
    "version": 3
   },
   "file_extension": ".py",
   "mimetype": "text/x-python",
   "name": "python",
   "nbconvert_exporter": "python",
   "pygments_lexer": "ipython3",
   "version": "3.13.2"
  }
 },
 "nbformat": 4,
 "nbformat_minor": 2
}
