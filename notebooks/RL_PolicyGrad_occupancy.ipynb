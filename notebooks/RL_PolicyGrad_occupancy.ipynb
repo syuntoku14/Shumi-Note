{
 "cells": [
  {
   "cell_type": "markdown",
   "metadata": {},
   "source": [
    "# Occupancy ベースの方策勾配法\n",
    "\n",
    "参考\n",
    "* [Occupancy-based Policy Gradient: Estimation, Convergence, and Optimality](https://openreview.net/forum?id=Nq8enbbaP2)\n",
    "\n",
    "強化学習では価値をベースとしたアルゴリズムをよく見ます．\n",
    "しかし，[RL_Convex_MDP](RL_Convex_MDP.ipynb)で見たように，収益の最大化以外の話題で，しばしば価値では扱えない問題が出てきます．\n",
    "今回はOccupancy measureをベースとした手法について見てみましょう．\n",
    "\n",
    "表記\n",
    "* 有限ホライゾンMDPです．表記は論文に任せます\n",
    "* 方策空間：$\\Pi_{\\Theta}=\\left\\{\\pi_\\theta: \\theta \\in \\Theta, \\theta \\in \\mathbb{R}^p,\\|\\theta\\| \\leq B\\right\\}$\n",
    "* 目的関数：$f: \\Pi_{\\Theta} \\rightarrow \\mathbb{R}$\n",
    "* 方策更新：$\\theta^{(t+1)}=\\operatorname{Proj}_{\\Theta}\\left(\\theta^{(t)}+\\eta \\nabla f\\left(\\pi_{\\left.\\theta^{(t)}\\right)}\\right)\\right)$. ここで，$\\nabla f\\left(\\pi_\\theta\\right)=\\left[\\frac{\\partial f\\left(\\pi_\\theta\\right)}{\\partial \\theta^P}\\right]_{p \\in[\\mathrm{p}]} \\in \\mathbb{R}^{\\mathrm{p}}$\n",
    "* 今回は方策が決定的にならない状況を考えます：For all $\\pi_\\theta \\in \\Pi_{\\Theta}, \\max _{s, a}\\left\\|\\nabla \\log \\pi_\\theta(a \\mid s)\\right\\|_{\\infty} \\leq G$.\n",
    "* 勾配の定常性は$\\left\\|G^\\eta\\left(\\pi^{(t)}\\right)\\right\\|$ with $G^\\eta\\left(\\pi^{(t)}\\right):=\\frac{1}{n}\\left(\\theta^{(t)}-\\theta^{(t+1)}\\right)$で評価されます\n",
    "\n",
    "計算効率の評価について：よくある文献と同様に，計算効率をオラクルに対する呼び出し回数で評価します．これは計算自体を抽象化するため，便利です（書き方は参考になるから見ておこう．）\n",
    "\n",
    "与えられたデータセット$\\mathcal{D}=\\{(x, y)\\}$と関数クラス$\\mathcal{F}$に対して，\n",
    "* $\\operatorname{argmax}_{f \\in \\mathcal{F}} \\mathbb{E}_{\\mathcal{D}}[\\log f(x)]$を返すオラクル\n",
    "* $\\operatorname{argmin}_{f \\in \\mathcal{F}} \\mathbb{E}_{\\mathcal{D}}\\left[(f(x)-y)^2\\right]$を返すオラクル\n",
    "\n",
    "の２つを考えます．\n"
   ]
  },
  {
   "cell_type": "markdown",
   "metadata": {},
   "source": [
    "## Occupancyの再帰的な更新\n",
    "\n",
    "収益$J(\\pi)=\\sum_h \\sum_{s_h} d_h^\\pi\\left(s_h\\right) R\\left(s_h\\right)$について，その収益関数の方策勾配は\n",
    "$$\n",
    "\\nabla J(\\pi)=\\sum_h \\sum_{s_h} \\nabla d_h^\\pi\\left(s_h\\right) R\\left(s_h\\right)=\\sum_h \\mathbb{E}_{s_h \\sim d_h^\\pi}\\left[\\nabla \\log d_h^\\pi\\left(s_h\\right) R\\left(s_h\\right)\\right]\n",
    "$$\n",
    "です．すなわち，Occupancyについての勾配$\\nabla \\log d_h^\\pi\\left(s_h\\right)$が評価できれば方策勾配できそうです．\n",
    "この勾配は次の再帰的な構造を満たします：\n",
    "\n",
    "$$\n",
    "\\nabla \\log d_h^\\pi=\\mathbf{E}_{h-1}^\\pi\\left(\\nabla \\log \\pi+\\nabla \\log d_{h-1}^\\pi\\right)\n",
    "$$\n",
    "\n",
    "よって，FQIのように，次の最小二乗回帰を考えれば，一般の方策空間についての更新が実現されます：\n",
    "\n",
    "$$\n",
    "\\nabla \\log d_h^\\pi=\\operatorname{argmin}_{g: \\mathcal{S} \\rightarrow \\mathbb{R}^{\\boldsymbol{p}}} \\mathbb{E}_\\pi\\left[\\left\\|g\\left(s_h\\right)-\\left(\\nabla \\log \\pi\\left(a_{h-1} \\mid s_{h-1}\\right)+\\nabla \\log d_{h-1}^\\pi\\left(s_{h-1}\\right)\\right)\\right\\|^2\\right] .\n",
    "$$\n",
    "\n",
    "\n",
    "## 一般の目的関数\n",
    "\n",
    "このOccupancy basedな手法は一般の目的関数にも利用できます．\n",
    "\n",
    "$J_F(\\pi)=\\sum_h F_h\\left(d_h^\\pi\\right)$を考えましょう．ここで，$F_h: \\Delta(\\mathcal{S}) \\rightarrow \\mathbb{R}$は一般の関数です．\n",
    "例えば次の例が考えられます：\n",
    "\n",
    "* $F_h(d)=-\\langle d, \\log d\\rangle$：エントロピー最大化\n",
    "* $F_h(d)=-\\left\\|d-d_h^{\\pi_E}\\right\\|_2^2$：模倣学習\n",
    "\n",
    "など．一般の関数については，次の勾配を考えることで解決できます：\n",
    "\n",
    "$$\n",
    "\\nabla J_F(\\pi)=\\sum_h \\mathbb{E}_{s \\sim d_h^\\pi}\\left[\\left.\\frac{\\partial F_h(d)}{\\partial d(s)}\\right|_{d=d_h^\\pi} \\nabla \\log d_h^\\pi(s)\\right]\n",
    "$$\n",
    "\n",
    "ほぼ上と同様ですが，勾配$\\left.\\frac{\\partial F_h(d)}{\\partial d(s)}\\right|_{d=d_h^\\pi}$が必要になります．これはOccupancy $d^\\pi_h$が必要になります．"
   ]
  },
  {
   "cell_type": "markdown",
   "metadata": {},
   "source": []
  }
 ],
 "metadata": {
  "language_info": {
   "name": "python"
  }
 },
 "nbformat": 4,
 "nbformat_minor": 2
}
