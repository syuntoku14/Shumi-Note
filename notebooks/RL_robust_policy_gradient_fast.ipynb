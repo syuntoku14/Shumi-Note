{
    "cells": [
        {
            "cell_type": "markdown",
            "metadata": {},
            "source": [
                "# 一般のロバスト方策勾配の収束について\n",
                "\n",
                "参考：\n",
                "* [Towards Faster Global Convergence of Robust Policy Gradient Methods](https://openreview.net/pdf?id=cWrwdbEBx5)\n",
                "\n",
                "$s$-rectangularで高速な収束を達成した論文があったので，今回はそのまとめです．（基本的にはProximal Gradient Methodの証明でいけるっぽい．そっちをちゃんとまとめよう．）\n",
                "TODO: 続きを書く\n",
                "\n",
                "表記（大体は論文に任せる）:\n",
                "* $\\rho_{(P, R)}^\\pi:=\\mathbf{E}\\left[\\sum_{n=0}^{\\infty} \\gamma^n R\\left(s_t, a_t\\right) \\mid \\pi, P, s_0 \\sim \\mu\\right]$：リターン\n",
                "* $d_{P, k}^\\pi:=k^T\\left(I-\\gamma P^\\pi\\right)^{-1}, \\quad \\forall k \\in \\mathbb{R}^{\\mathcal{S}}$：Occupancy measure．$k \\in \\Delta^{\\mathcal{S}}$で，ここには初期状態分布が入る\n",
                "* $v_{(P, R)}^\\pi(s):=\\mathbf{E}\\left[\\sum_{n=0}^{\\infty} \\gamma^n R\\left(s_n, a_n\\right) \\mid \\pi, P, s_0=s\\right]$\n",
                "* $\\rho_{\\mathcal{U}}^\\pi:=\\min _{(P, R) \\in \\mathcal{U}} \\rho_{(P, R)}^\\pi$\n",
                "* 劣勾配：$\\partial_\\pi \\rho_{\\mathcal{U}}^\\pi:=\\left.\\nabla_\\pi \\rho_{(P, R)}^\\pi\\right|_{(P, R)=\\left(P_{\\mathcal{U}}^\\pi, R_{\\mathcal{U}}^\\pi\\right)}$\n",
                "    * 以降は簡単のために，$\\partial_\\pi \\rho_{\\mathcal{U}}^\\pi$の中の任意の要素のことを$\\nabla_\\pi \\rho_{\\mathcal{U}}^\\pi \\in \\partial_\\pi \\rho_{\\mathcal{U}}^\\pi$\n",
                "* $\\Pi$はConvexな方策空間とします．\n",
                "\n",
                "移行，$\\mathcal{U}$はcompact集合とします．"
            ]
        },
        {
            "cell_type": "markdown",
            "metadata": {},
            "source": [
                "\n",
                "まず，$\\rho^\\pi_\\mathcal{U}$は$\\pi$について$L$-弱凸関数です（[NEAR-OPTIMAL POLICY IDENTIFICATION IN ROBUST CONSTRAINED MARKOV DECISION PROCESSES VIA EPIGRAPH FORM](https://openreview.net/pdf?id=G5sPv4KSjR#page=22.14)のLemma 18とか．$L$は論文参照．）．\n",
                "**注意!これはミス．強い仮定．俺の論文の弱凸性はコストを考えているので，これはSmoothnessの仮定で，ロバストMDPでは一般に成立しない．**\n",
                "多分[Robust Markov Decision Processes without Model Estimation](https://arxiv.org/abs/2302.01248)を使えばいけるよ．\n",
                "よって，次を満たします．\n",
                "\n",
                "$$\n",
                "\\rho_{\\mathcal{U}}^{\\pi^{\\prime}} \\geq \\rho_{\\mathcal{U}}^\\pi+\\left\\langle\\nabla \\rho_{\\mathcal{U}}^\\pi, \\pi^{\\prime}-\\pi\\right\\rangle-\\frac{L}{2}\\left\\|\\pi^{\\prime}-\\pi\\right\\|^2, \\quad \\forall \\pi^{\\prime}, \\pi \\in \\Pi .\n",
                "$$\n",
                "\n",
                "このときに，次の方策更新を考えます．\n",
                "\n",
                "$$\n",
                "\\begin{aligned}\n",
                "\\pi_{k+1}&=\\pi_k+\\eta \\nabla \\rho_{\\mathcal{U}}^{\\pi_k}\\\\\n",
                "T(\\pi) & :=\\operatorname{proj}_{\\Pi}\\left(\\pi+\\frac{1}{L} \\nabla \\rho_{\\mathcal{U}}^\\pi\\right) \\\\\n",
                "G(\\pi) & :=L(T(\\pi)-\\pi)\n",
                "\\end{aligned}\n",
                "$$\n",
                "\n",
                "つまり，\n",
                "* $T(\\pi)$は射影劣勾配法，\n",
                "* $G(\\pi)$は「方策空間の中で方策が動いた量」に$L$をかけて勾配のサイズに戻してます\n",
                "\n",
                "\n",
                "このとき，次が成立します：\n",
                "\n",
                "$$\n",
                "\\rho_{\\mathcal{U}}^{\\pi_{k+1}}-\\rho_{\\mathcal{U}}^{\\pi_k} \\geq \\frac{1}{2 L}\\left\\|G\\left(\\pi_k\\right)\\right\\|^2=\\frac{L}{2}\\left\\|\\pi_{k+1}-\\pi_k\\right\\|^2\n",
                "$$\n",
                "\n"
            ]
        }
    ],
    "metadata": {
        "kernelspec": {
            "display_name": ".venv",
            "language": "python",
            "name": "python3"
        },
        "language_info": {
            "codemirror_mode": {
                "name": "ipython",
                "version": 3
            },
            "file_extension": ".py",
            "mimetype": "text/x-python",
            "name": "python",
            "nbconvert_exporter": "python",
            "pygments_lexer": "ipython3",
            "version": "3.10.12"
        }
    },
    "nbformat": 4,
    "nbformat_minor": 2
}
