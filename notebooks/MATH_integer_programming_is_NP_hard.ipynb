{
 "cells": [
  {
   "cell_type": "markdown",
   "metadata": {},
   "source": [
    "# 整数計画問題とNP困難\n",
    "\n",
    "参考：\n",
    "* [Proving 0-1 integer programming is NP-complete (using reduction from 3-CNF-SAT)](https://gnarlyware.com/blog/proving-0-1-integer-programming-is-np-complete-using-reduction-from-3-cnf-sat/)\n",
    "\n",
    "整数計画問題は一般にNP困難になります．証明しましょう．\n",
    "\n",
    "---\n",
    "\n",
    "**最小頂点被覆問題への変換**\n",
    "\n",
    "整数計画問題が解ける場合，最小被覆問題も解けてしまうことを使ってNP困難を示します．\n",
    "* 最小被覆問題：グラフ$G(V, E)$の各枝$$e$について，端点のいずれか少なくとも一方が，$V'$に含まれるような$V$の部分集合のうち，$V'$が最小になるものを求めよ．（参考：[最小頂点被覆問題](https://ja.wikipedia.org/wiki/%E6%9C%80%E5%B0%8F%E9%A0%82%E7%82%B9%E8%A2%AB%E8%A6%86%E5%95%8F%E9%A1%8C)）\n",
    "* 集合$C$が$G$の頂点被覆であるとき，$G$のどの辺をとっても，その端点のどちらかが$V$に含まれる\n",
    "\n",
    "$G=(V, E)$を無向グラフとします．\n",
    "このとき，次の整数計画問題を考えましょう．\n",
    "\n",
    "$$\n",
    "\\begin{aligned}\n",
    "\\min \\sum_{v \\in V} y_v & \\\\\n",
    "y_v+y_u \\geq 1 & \\forall u v \\in E \\\\\n",
    "0 \\leq y_v \\leq 1 & \\forall v \\in V \\\\\n",
    "y_v \\in \\mathbb{Z} & \\forall v \\in V\n",
    "\\end{aligned}\n",
    "$$\n",
    "\n",
    "この問題と頂点被覆問題の関係を見てみましょう．\n",
    "$v\\in V$に対して，$v$が頂点被覆$C$に含まれているとき$y_v=1$，そうでないならば$y_v=0$とします．\n",
    "上の問題では2つ目と3つ目の不等式から，$y_v$は$0$か$1$に限定されているので，任意の実行可能解は最小頂点被覆問題の実行可能解です（$y_v=1$なら$C$に含まれることを意味します）．\n",
    "\n",
    "また，最初の制約より，各エッジの少なくとも一方が$C$に含まれていることを意味します．よって，この解は頂点被覆問題の解になります．\n",
    "\n",
    "よってこれはNP困難です．\n",
    "\n",
    "---\n",
    "\n"
   ]
  },
  {
   "cell_type": "markdown",
   "metadata": {},
   "source": [
    "**3-SAT問題への変換**\n",
    "\n",
    "$m\\times n$行列の$A$と，整数ベクトル$b$が与えられたときに，次を満たすバイナリベクトル$b$が存在するかどうかを考えます．\n",
    "\n",
    "$$\n",
    "A x \\leq b\n",
    "$$\n",
    "\n",
    "これはNP困難になります．証明は[Proving 0-1 integer programming is NP-complete (using reduction from 3-CNF-SAT)](https://gnarlyware.com/blog/proving-0-1-integer-programming-is-np-complete-using-reduction-from-3-cnf-sat/)を参照してください．"
   ]
  }
 ],
 "metadata": {
  "language_info": {
   "name": "python"
  },
  "orig_nbformat": 4
 },
 "nbformat": 4,
 "nbformat_minor": 2
}
