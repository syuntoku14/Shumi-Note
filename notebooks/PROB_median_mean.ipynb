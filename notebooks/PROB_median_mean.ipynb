{
 "cells": [
  {
   "cell_type": "markdown",
   "metadata": {},
   "source": [
    "# Median of Mean (MoM)\n",
    "\n",
    "参考：\n",
    "* [Generalization Bounds in the Presence of Outliers: a Median-of-Means Study](https://arxiv.org/abs/2006.05240)\n",
    "\n",
    "分布$P$に従って発生した$n$個のサンプル：$\\mathcal{S}_n=\\left\\{Z_1, \\ldots, Z_n\\right\\}$について，その経験平均$\\hat{\\theta}=(1 / n) \\sum_{i=1}^n Z_i$がsub-gaussianの裾を実現するためには，$P$がsub-gaussianである必要があります：\n",
    "つまり，\n",
    "$$\n",
    "\\mathbb{E}_P\\left[e^{\\lambda Z}\\right] \\leq e^{\\lambda^2 \\rho^2 / 2} \\text { for all } \\lambda \\in \\mathbb{R}\n",
    "$$\n",
    "を満たす$\\rho>0$が存在しないといけません．\n",
    "\n",
    "一方で，heavy-tailedなモデルでは，バリアンスが有限，といった弱い仮定のみ置きます．\n",
    "\n",
    "---\n",
    "\n",
    "**バリアンス有限の場合**\n",
    "\n",
    "* 次を満たす$\\theta$と$\\sigma^2<+\\infty$が存在する：$\\mathbb{E}_P[Z]=\\theta$, and $\\operatorname{Var}_P(Z)=\\sigma^2$\n",
    "\n",
    "---\n",
    "\n"
   ]
  },
  {
   "cell_type": "markdown",
   "metadata": {},
   "source": [
    "## MoMについて\n",
    "\n",
    "MoMでは，与えられた信頼レベル$1-\\delta$（$\\delta \\in\\left[e^{1-n / 2}, 1[\\right.$）について，以下の処理を行います：\n",
    "* $K=\\lceil\\log (1 / \\delta)\\rceil \\leq n$\n",
    "* $\\mathcal{S}_n$をサイズ$B=\\lfloor n / K\\rfloor$の$\\mathcal{B}_1, \\ldots, \\mathcal{B}_K$ に分解\n",
    "* $k \\leq K$について，平均$\\hat{\\theta}_k = (1 / B) \\sum_{i \\in \\mathcal{B}_l} Z_i$を計算\n",
    "* $\\hat{\\theta}_{\\mathrm{MoM}}=\\operatorname{median}\\left(\\hat{\\theta}_1, \\ldots, \\hat{\\theta}_K\\right)$\n",
    "\n",
    "これは分散の仮定の元でも次のConcentration boundを実現します：\n",
    "[Sub-Gaussian mean estimatorsなど参照](https://projecteuclid.org/journals/annals-of-statistics/volume-44/issue-6/Sub-Gaussian-mean-estimators/10.1214/16-AOS1440.full)\n",
    "\n",
    "$$\n",
    "\\left|\\hat{\\theta}_{\\mathrm{MoM}}-\\theta\\right| \\leq 2 \\sqrt{2} e \\sigma \\sqrt{\\frac{1+\\log (1 / \\delta)}{n}}\n",
    "$$\n",
    "\n",
    "MoMは分散の仮定だけでも動きますが，次のHuberのContamination modelってやつでも動きます：\n",
    "\n",
    "---\n",
    "\n",
    "**contamination model**\n",
    "\n",
    "サンプル$\\mathcal{S}_n=\\left\\{Z_1, \\ldots, Z_n\\right\\}$の中に，\n",
    "* $P$からi.i.dにサンプルされた$n-n_{\\mathrm{O}}$個のinlier\n",
    "* 全く仮定を置かない$n_{\\mathrm{O}}$個のoutlier\n",
    "\n",
    "を考えます．$\\varepsilon=n_{\\mathrm{O}} / n$をoutlierの比率とします．\n",
    "\n",
    "---\n",
    "\n",
    "**Huber's contamination model**\n",
    "\n",
    "Huber's contamination modelでは，\n",
    "* $S_n$が$\\widetilde{P}=(1-\\zeta) P+\\zeta A$からi.i.dにサンプルされる状況を考えます．ここで，$A$は任意の分布です．\n",
    "\n",
    "上の仮定はHuber's contamination modelとほぼ同じですね．\n",
    "\n",
    "---\n",
    "\n",
    "TODO: 続き書く or Stochastic gradientを勉強しよう．\n",
    "\n",
    "\n",
    "\n"
   ]
  },
  {
   "cell_type": "code",
   "execution_count": null,
   "metadata": {
    "vscode": {
     "languageId": "plaintext"
    }
   },
   "outputs": [],
   "source": []
  },
  {
   "cell_type": "code",
   "execution_count": null,
   "metadata": {
    "vscode": {
     "languageId": "plaintext"
    }
   },
   "outputs": [],
   "source": []
  }
 ],
 "metadata": {
  "language_info": {
   "name": "python"
  }
 },
 "nbformat": 4,
 "nbformat_minor": 2
}
