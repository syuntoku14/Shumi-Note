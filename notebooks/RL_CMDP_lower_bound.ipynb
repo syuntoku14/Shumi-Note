{
 "cells": [
  {
   "cell_type": "markdown",
   "metadata": {},
   "source": [
    "# CMDPでのサンプル効率の下界\n",
    "\n",
    "参考：\n",
    "* [Near-Optimal Sample Complexity Bounds for Constrained MDPs](https://arxiv.org/abs/2206.06270)\n",
    "\n",
    "次の$\\varepsilon$-最適な方策を計算する状況を考えます：\n",
    "$$\n",
    "V_r^{\\hat{\\pi}}(\\rho) \\geq V_r^*(\\rho)-\\varepsilon, \\text { and } V_c^{\\hat{\\pi}}(\\rho) \\geq b\n",
    "$$\n",
    "\n",
    "ここで，制約違反を許していないことに注意しましょう．許さない場合，サンプル効率の下界が変わります．"
   ]
  },
  {
   "cell_type": "markdown",
   "metadata": {},
   "source": [
    "## バンディットのケース\n",
    "\n",
    "CMDPでの下界を出す前に，一旦2アームバンディットで直感を養いましょう．\n",
    "\n",
    "1. アーム１では期待報酬 $H=1/(1-\\gamma)$，制約報酬 $b-\\zeta$\n",
    "2. アーム２では期待報酬 $0$，制約報酬 $b+\\zeta$\n",
    "\n",
    "のバンディットを考えます．\n",
    "このとき，最適方策はアーム１と２を確率$1/2$で選び続ける状況ですね．\n",
    "期待報酬として，$H/2$が得られます．\n",
    "\n",
    "ここで，アーム２の制約報酬を推定する際に，$\\varepsilon'$の誤差が載ってる状況を考えましょう．つまり，$b+\\zeta - \\varepsilon'$として推定したとします．\n",
    "そして，他のすべての情報については完璧な推定が行われているとしましょう．\n",
    "\n",
    "アーム１の選択確率を$p$とすると，$p$は\n",
    "$$\n",
    "\\begin{aligned}\n",
    "p (b -\\zeta) + (1-p)(b+\\zeta - \\varepsilon') \\geq b\n",
    "\\end{aligned}\n",
    "$$\n",
    "を満たさないといけないので，これを$p$について解くと，アーム２を\n",
    "$$\n",
    "\\zeta /\\left(2 \\zeta-\\varepsilon^{\\prime}\\right) \\approx 1 / 2+\\varepsilon^{\\prime} /(4 \\zeta)\n",
    "$$\n",
    "の確率で選択しなければ，推定したバンディット問題における安全性が保証できません．\n",
    "\n",
    "よって，得られる期待報酬は$H / 2-H \\varepsilon^{\\prime} /(4 \\zeta)$になり，$H \\varepsilon^{\\prime} /(4 \\zeta)$だけ誤差が乗ることになります．\n",
    "つまり，$\\varepsilon$最適方策を得るためには， $\\varepsilon^{\\prime}=\\varepsilon \\zeta / H=\\varepsilon \\zeta(1-\\gamma)$の精度が必要になります．\n",
    "\n",
    "このように，制約違反を許さない場合，サンプル効率が変わります．\n",
    "\n",
    "**直感** \n",
    "* 高い報酬につながる方策と，strictに安全な報酬を出す方策がある時を考えます．\n",
    "* 基本的にCMDPでは，「$\\alpha$-strictな安全性を確保して，余った分で高報酬を稼ぎに行く」が最適な方策です．\n",
    "* 安全な方策を確率$p$で選ぶなら，$p \\alpha$だけ余裕が生まれます．生まれた余裕の中で高報酬を稼ぎに行くので，$1/p\\alpha$のスケールで通常よりも余計なサンプルが必要になります．\n",
    "\n",
    "もしstrictな方策の推定が$\\varepsilon'$だけミスっていて，$\\alpha = \\zeta - \\varepsilon'$ ならば，\n",
    "\n",
    "$$\n",
    "\\begin{aligned}\n",
    "余計な労力 \n",
    "&= \\frac{1}{p (\\zeta - \\varepsilon')} \n",
    "= \\frac{1}{p \\zeta} + \\frac{\\varepsilon'}{p \\zeta (\\zeta - \\varepsilon')}\\\\\n",
    "&\\underbrace{=}_{\\text{if } \\varepsilon' \n",
    "= \\beta \\zeta} \n",
    "\\frac{1}{p \\zeta} + \\frac{1}{p \\zeta}\\frac{\\beta}{(1-\\beta)}\n",
    "= \\frac{1}{p \\zeta} \\frac{1}{1-\\beta} \\\\\n",
    "\\end{aligned}\n",
    "$$\n",
    "\n",
    "になります．上記のように，$\\varepsilon'$が$\\zeta$にスケールしていれば，余計な労力の２項目は無視できます．"
   ]
  }
 ],
 "metadata": {
  "language_info": {
   "name": "python"
  }
 },
 "nbformat": 4,
 "nbformat_minor": 2
}
