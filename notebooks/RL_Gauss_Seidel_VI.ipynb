{
 "cells": [
  {
   "cell_type": "markdown",
   "metadata": {},
   "source": [
    "# Gauss-Seidel-VI アルゴリズム\n",
    "\n",
    "参考：\n",
    "* [Markov Decision Processes: Discrete Stochastic Dynamic Programming](https://onlinelibrary.wiley.com/doi/book/10.1002/9780470316887)の6.3章\n",
    "\n",
    "今回は価値反復法よりも少し賢い価値反復法について扱います（記法は教科書に任せます）\n",
    "\n",
    "次の線形分解を考えましょう：\n",
    "\n",
    "$$I - \\lambda P_d = Q_d - R_d$$\n",
    "\n",
    "ここで，$Q_d^{-1} \\geq 0$かつ$R_d \\geq 0$のとき，この分解を標準分解と呼ぶことにします．\n",
    "一番簡単な分解方法は$Q_d = I$かつ$R_d = \\lambda P_d$のときですね．実は，後で見るGauss-Seidelアルゴリズムでこの分解は価値反復法と一致します．\n",
    "\n",
    "まず，有限な状態空間の各状態を$s_1, \\dots, s_N$としましょう．\n",
    "Gauss-Seidelアルゴリズムは次の処理を繰り返して，いい感じの$n$で止めます．\n",
    "\n",
    "* 各$n$で，$j=1$から$j=N$まで次を繰り返す：\n",
    "\n",
    "$$\n",
    "v^{n+1}\\left(s_j\\right)=\\max _{a \\in A_{s_j}}\\left\\{r\\left(s_j, a\\right)+\\lambda\\left[\\sum_{i<j} p\\left(s_i \\mid s_j, a\\right) v^{n+1}\\left(s_i\\right)+\\sum_{i \\geq j} p\\left(s_i \\mid s_j, a\\right) v^n\\left(s_i\\right)\\right]\\right\\}\n",
    "$$\n",
    "\n",
    "この反復法は何をしてるのか見てみましょう．\n",
    "ただ，これを正しく見つめるためにはノルム付き線形空間への理解が必要になります：\n",
    "\n",
    "\n"
   ]
  },
  {
   "cell_type": "markdown",
   "metadata": {},
   "source": [
    "全ての$j=1~N$で上の処理を行い，何らかの$d$が出てきたときのことを考えます．\n",
    "遷移行列に対して，その分解を次で表記します：\n",
    "$$P_d = P_d^L + P_d^U$$\n",
    "\n",
    "ここで，\n",
    "$$\n",
    "P_d^L=\\left[\\begin{array}{cccccc}\n",
    "0 & 0 & . & . & . & 0 \\\\\n",
    "p_{21} & 0 & & & & 0 \\\\\n",
    "p_{31} & p_{32} & 0 & & & \\\\\n",
    "\\cdot & & & \\cdot & & \\\\\n",
    "\\cdot & & & & \\cdot & \\\\\n",
    "p_{N 1} & & & & p_{N, N-1} & 0\n",
    "\\end{array}\\right], P_d^U=\\left[\\begin{array}{cccccc}\n",
    "p_{11} & p_{12} & \\cdot & . & \\cdot & p_{1 N} \\\\\n",
    "0 & p_{22} & \\cdot & . & \\cdot & p_{2 N} \\\\\n",
    "0 & 0 & p_{33} & & & p_{3 N} \\\\\n",
    "\\cdot & & & \\cdot & & \\cdot \\\\\n",
    "\\cdot & & & & \\cdot & \\cdot \\\\\n",
    "0 & \\cdot & . & \\cdot & 0 & p_{N N}\n",
    "\\end{array}\\right] .\n",
    "$$\n",
    "です．\n",
    "さて，上の反復の前半部分と後半部分を分けて考えてみましょう．\n",
    "* 前半部分では下三角行列を使って$d$についての方策評価をしているとみなしても良さそうです．\n",
    "* また，後半部分は上三角行列によって方策評価をしています．\n",
    "* そして，\n",
    "\n",
    "こうすると，実はGauus-Seidel$アルゴリズムの気持ちとしては，次の処理をやろうとしています：\n",
    "\n",
    "$$\n",
    "v^{n+1}=\\left(I-\\lambda P_d^L\\right)^{-1}\\left(\\lambda P_d^U\\right) v^n+\\left(I-\\lambda P_d^L\\right)^{-1} r_d\n",
    "$$\n",
    "\n",
    "これは\n",
    "\n",
    "$Q_d=\\left(I-\\lambda P_d^L\\right)$ and $R_d=\\lambda P_d^U$"
   ]
  },
  {
   "cell_type": "code",
   "execution_count": null,
   "metadata": {},
   "outputs": [],
   "source": []
  }
 ],
 "metadata": {
  "language_info": {
   "name": "python"
  }
 },
 "nbformat": 4,
 "nbformat_minor": 2
}
