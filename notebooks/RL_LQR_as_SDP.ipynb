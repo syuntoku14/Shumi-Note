{
 "cells": [
  {
   "cell_type": "markdown",
   "metadata": {},
   "source": [
    "# 半正定値計画問題によるLQR\n",
    "\n",
    "参考：\n",
    "* [Reinforcement Learning: Theory and Algorithms](https://rltheorybook.github.io/)\n",
    "\n",
    "LQRにおいて，リッカチ方程式は半正定値計画問題（SDP）によって解くことができます．\n",
    "大きな枠組みはMDPにおける線型計画法の扱いと同じです．\n",
    "\n",
    "今回は無限ホライゾンLQRを考えます．\n",
    "\n",
    "## 主問題\n",
    "\n",
    "[前回のLQRの内容](RL_LQR.ipynb)を踏まえると，次のようにして$P$を解くことができます．\n",
    "\n",
    "$$\n",
    "\\begin{array}{ll}\n",
    "\\operatorname{maximize} & \\sigma^2 \\operatorname{Trace}(P) \\\\\n",
    "\\text { subject to } & {\\left[\\begin{array}{ll}\n",
    "A^T P A+Q-P & A^{\\top} P B \\\\\n",
    "B^T P A & B^{\\top} P B+R\n",
    "\\end{array}\\right] \\succeq 0, \\quad P \\succeq 0,}\n",
    "\\end{array}\n",
    "$$\n",
    "\n",
    "**解説**\n",
    "\n",
    "この形式を導出してみましょう．\n",
    "MDPにおける線型計画法で使った[Contraction Lemma](RL_as_LP.ipynb)を思い出すと，$P$は次の条件を満たせば良いことがわかります．\n",
    "\n",
    "$$\n",
    "A^T P A+Q-A^T P B\\left(B^T P B+R\\right)^{-1} B^T P A \\succeq P .\n",
    "$$\n",
    "\n",
    "こｒをSchur complementを使って書き直します．\n",
    "\n",
    "$$\n",
    "X=\\left[\\begin{array}{ll}\n",
    "D & E \\\\\n",
    "E^{\\top} & F\n",
    "\\end{array}\\right]\n",
    "$$\n",
    "\n",
    "とすると，\n",
    "\n",
    "$$\n",
    "D-E^{\\top} F^{-1} E \\succeq 0\n",
    "$$\n",
    "\n",
    "は$X$が正定値行列であることの必要十分条件です．\n",
    "\n",
    "* $E=A^\\top P B$\n",
    "* $F=B^\\top P B + R$\n",
    "* $D = A^T P A+Q-P$\n",
    "\n",
    "とすると，これが上で定義した制約と同じであることがわかります．"
   ]
  },
  {
   "cell_type": "markdown",
   "metadata": {},
   "source": [
    "## 双対問題\n",
    "\n",
    "MDPにおける線型計画法と同様にして，双対問題を考えることができます．\n",
    "\n",
    "$$\n",
    "\\begin{array}{ll}\n",
    "\\operatorname{minimize} & \\operatorname{Trace}\\left(\\Sigma \\cdot\\left[\\begin{array}{ll}\n",
    "Q & 0 \\\\\n",
    "0 & R\n",
    "\\end{array}\\right]\\right) \\\\\n",
    "\\text { subject to } & \\Sigma_{x x}=\\left(\\begin{array}{ll}\n",
    "A & B\n",
    "\\end{array}\\right) \\Sigma(A B)^{\\top}+\\sigma^2 I, \\quad \\Sigma \\succeq 0,\n",
    "\\end{array}\n",
    "$$\n",
    "\n",
    "ここで，$\\Sigma$は$(d+k)\\times (d+k)$の行列であり，\n",
    "\n",
    "$$\n",
    "\\Sigma=\\left[\\begin{array}{ll}\n",
    "\\Sigma_{x x} & \\Sigma_{x u} \\\\\n",
    "\\Sigma_{u x} & \\Sigma_{u u}\n",
    "\\end{array}\\right]\n",
    "$$\n",
    "\n",
    "の形式を取ります．これはつまり定常分布の共分散行列を表しており，MDPにおける状態訪問分布と同じような役割を持ちます．\n",
    "\n",
    "状態数が有限であれば[RL_as_LP.ipynb](RL_as_LP.ipynb)でやったようなアプローチが取れますが，LQRでは状態は$d$次元ベクトルなので，ここでは線形バンディットやLinearMDPにおけるVisitationカウントに近いことをしています．\n",
    "\n",
    "---\n",
    "\n",
    "**考察**\n",
    "\n",
    "多分ですが，\n",
    "$t$で訪れる状態のベクトルを$x_t$として，\n",
    "\n",
    "$$\\Sigma_{x x} \\leftarrow \\Sigma_{x x} + x_t x_t^\\top$$\n",
    "みたいな処理をしているかも？（あと初期値として$\\sigma^2 I$が足されてる．）\n",
    "そうすると，$\\Sigma_{x x}$のTraceを取ると状態の二乗和が抽出されるので，結局目的関数が元のやつと同じになる？\n",
    "\n",
    "---\n",
    "\n",
    "\n",
    "このとき，最適なゲイン行列は\n",
    "\n",
    "$$\n",
    "K^{\\star}=-\\Sigma_{u x}^{\\star}\\left(\\Sigma_{x x}^{\\star}\\right)^{-1}\n",
    "$$\n",
    "\n",
    "で求めることができます．"
   ]
  },
  {
   "cell_type": "code",
   "execution_count": 9,
   "metadata": {},
   "outputs": [],
   "source": [
    "import numpy as np\n",
    "from typing import NamedTuple\n",
    "\n",
    "\n",
    "# 無限ホライゾン用です\n",
    "class MDP(NamedTuple):\n",
    "    d: int  # 状態の次元\n",
    "    k: int  # 入力の次元\n",
    "    A: np.array  # 遷移行列\n",
    "    B: np.array  # 遷移行列\n",
    "    Q: np.array  # コスト行列\n",
    "    R: np.array  # コスト行列\n",
    "    sigma: float  # ノイズの大きさ\n",
    "\n",
    "\n",
    "d = 5\n",
    "k = 2\n",
    "sigma = 0.01\n",
    "A = np.random.randn(d, d) * 0.1\n",
    "B = np.random.randn(d, k) * 0.1\n",
    "Q = np.random.randn(d, d)\n",
    "Q = Q @ Q.T\n",
    "\n",
    "R = np.random.randn(k, k)\n",
    "R = R @ R.T\n",
    "\n",
    "mdp = MDP(d, k, A, B, Q, R, sigma)"
   ]
  },
  {
   "cell_type": "code",
   "execution_count": 10,
   "metadata": {},
   "outputs": [],
   "source": [
    "# 主問題を説いてみます\n",
    "\n",
    "import cvxpy as cp\n",
    "\n",
    "P = cp.Variable((d, d), symmetric=True)\n",
    "\n",
    "D = mdp.A.T @ P @ mdp.A + mdp.Q - P\n",
    "E = mdp.A.T @ P @ mdp.B\n",
    "F = mdp.B.T @ P @ mdp.B + mdp.R\n",
    "\n",
    "S = cp.bmat([\n",
    "    [D, E],\n",
    "    [E.T, F]\n",
    "])\n",
    "\n",
    "# 制約を定義します\n",
    "constraints = [P >> 0, S >> 0]\n",
    "\n",
    "# 最適化問題を解きます\n",
    "prob = cp.Problem(cp.Maximize(mdp.sigma ** 2 * cp.trace(P)), constraints)\n",
    "prob.solve()\n",
    "\n",
    "P = P.value"
   ]
  },
  {
   "cell_type": "code",
   "execution_count": 11,
   "metadata": {},
   "outputs": [
    {
     "name": "stdout",
     "output_type": "stream",
     "text": [
      "最後の方の価値：0.0028802448105785337\n",
      "Pから計算した価値：0.0025237040654423402\n"
     ]
    }
   ],
   "source": [
    "import matplotlib.pyplot as plt\n",
    "\n",
    "# 制御器をダイナミクス上で走らせて得られる価値を観察します\n",
    "gain = - np.linalg.inv(mdp.B.T @ P @ mdp.B + mdp.R) @ mdp.B.T @ P @ mdp.A\n",
    "x0 = np.random.randn(mdp.d)\n",
    "Ptrace = np.trace(P)\n",
    "\n",
    "Vs = []\n",
    "for seed in range(10):\n",
    "    x = x0.copy()\n",
    "    V = []\n",
    "    for h in range(100):\n",
    "        u = - gain @ x\n",
    "\n",
    "        # コストを計算します\n",
    "        cost = x.T @ mdp.Q @ x + u.T @ mdp.R @ u\n",
    "        V.append(cost)\n",
    "\n",
    "        # ダイナミクスを進めます\n",
    "        noise = np.random.randn() * mdp.sigma\n",
    "        x = mdp.A @ x + mdp.B @ u + noise\n",
    "\n",
    "    cost = x.T @ mdp.Q @ x\n",
    "    V.append(cost)\n",
    "\n",
    "    V = np.array(V[::-1])\n",
    "    V = np.cumsum(V)[::-1]\n",
    "    Vs.append(V)\n",
    "\n",
    "mean_V = np.array(Vs).mean(axis=0)\n",
    "print(f\"最後の方の価値：{mean_V[-1]}\")\n",
    "print(f\"Pから計算した価値：{mdp.sigma ** 2 * np.trace(P)}\")"
   ]
  },
  {
   "cell_type": "code",
   "execution_count": 12,
   "metadata": {},
   "outputs": [
    {
     "data": {
      "text/plain": [
       "<matplotlib.legend.Legend at 0x7f387835bd00>"
      ]
     },
     "execution_count": 12,
     "metadata": {},
     "output_type": "execute_result"
    },
    {
     "data": {
      "image/png": "[encoded data removed]",
      "text/plain": [
       "<Figure size 640x480 with 1 Axes>"
      ]
     },
     "metadata": {},
     "output_type": "display_data"
    }
   ],
   "source": [
    "\n",
    "plt.plot(mean_V, label=f\"Averaged sample value\")\n",
    "plt.xlabel(\"Horizon\")\n",
    "plt.ylabel(\"Value\")\n",
    "plt.legend()"
   ]
  },
  {
   "cell_type": "code",
   "execution_count": 13,
   "metadata": {},
   "outputs": [],
   "source": [
    "# 双対問題を説いてみます\n",
    "\n",
    "import cvxpy as cp\n",
    "\n",
    "Sxx = cp.Variable((d, d), symmetric=True)\n",
    "Sxu = cp.Variable((d, k))\n",
    "Suu = cp.Variable((k, k), symmetric=True)\n",
    "\n",
    "S = cp.bmat([\n",
    "    [Sxx, Sxu],\n",
    "    [Sxu.T, Suu]\n",
    "])\n",
    "\n",
    "AB = np.block([mdp.A, mdp.B])\n",
    "QR = np.block([\n",
    "    [mdp.Q, np.zeros((d, k))],\n",
    "    [np.zeros((k, d)), mdp.R],\n",
    "])\n",
    "\n",
    "constraints = [Sxx == AB @ S @ AB.T + mdp.sigma ** 2 * np.eye(d), S >> 0]\n",
    "\n",
    "prob = cp.Problem(cp.Minimize(cp.trace(S @ QR)), constraints)\n",
    "prob.solve()\n",
    "\n",
    "S = S.value\n",
    "Sux = Sxu.value.T\n",
    "Sxx = Sxx.value"
   ]
  },
  {
   "cell_type": "code",
   "execution_count": 14,
   "metadata": {},
   "outputs": [
    {
     "name": "stdout",
     "output_type": "stream",
     "text": [
      "最後の方の価値：0.0014630946903901405\n"
     ]
    }
   ],
   "source": [
    "import matplotlib.pyplot as plt\n",
    "\n",
    "# 制御器をダイナミクス上で走らせて得られる価値を観察します\n",
    "gain = - Sux @ np.linalg.inv(Sxx)\n",
    "x0 = np.random.randn(mdp.d)\n",
    "\n",
    "Vs = []\n",
    "for seed in range(10):\n",
    "    x = x0.copy()\n",
    "    V = []\n",
    "    for h in range(100):\n",
    "        u = - gain @ x\n",
    "\n",
    "        # コストを計算します\n",
    "        cost = x.T @ mdp.Q @ x + u.T @ mdp.R @ u\n",
    "        V.append(cost)\n",
    "\n",
    "        # ダイナミクスを進めます\n",
    "        noise = np.random.randn() * mdp.sigma\n",
    "        x = mdp.A @ x + mdp.B @ u + noise\n",
    "\n",
    "    cost = x.T @ mdp.Q @ x\n",
    "    V.append(cost)\n",
    "\n",
    "    V = np.array(V[::-1])\n",
    "    V = np.cumsum(V)[::-1]\n",
    "    Vs.append(V)\n",
    "\n",
    "mean_V = np.array(Vs).mean(axis=0)\n",
    "print(f\"最後の方の価値：{mean_V[-1]}\")"
   ]
  },
  {
   "cell_type": "code",
   "execution_count": 15,
   "metadata": {},
   "outputs": [
    {
     "data": {
      "text/plain": [
       "<matplotlib.legend.Legend at 0x7f387bd5ba30>"
      ]
     },
     "execution_count": 15,
     "metadata": {},
     "output_type": "execute_result"
    },
    {
     "data": {
      "image/png": "[encoded data removed]",
      "text/plain": [
       "<Figure size 640x480 with 1 Axes>"
      ]
     },
     "metadata": {},
     "output_type": "display_data"
    }
   ],
   "source": [
    "\n",
    "plt.plot(mean_V, label=f\"Averaged sample value\")\n",
    "plt.xlabel(\"Horizon\")\n",
    "plt.ylabel(\"Value\")\n",
    "plt.legend()"
   ]
  }
 ],
 "metadata": {
  "kernelspec": {
   "display_name": ".venv",
   "language": "python",
   "name": "python3"
  },
  "language_info": {
   "codemirror_mode": {
    "name": "ipython",
    "version": 3
   },
   "file_extension": ".py",
   "mimetype": "text/x-python",
   "name": "python",
   "nbconvert_exporter": "python",
   "pygments_lexer": "ipython3",
   "version": "3.9.12"
  },
  "orig_nbformat": 4
 },
 "nbformat": 4,
 "nbformat_minor": 2
}
