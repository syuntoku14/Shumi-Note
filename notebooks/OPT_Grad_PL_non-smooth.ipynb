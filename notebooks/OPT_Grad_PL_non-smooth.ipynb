{
 "cells": [
  {
   "cell_type": "markdown",
   "metadata": {},
   "source": [
    "# 非平滑なPL条件下での最適化\n",
    "\n",
    "参考：\n",
    "* [Error bounds, PL condition, and quadratic growth for weakly convex functions, and linear convergences of proximal point methods](https://arxiv.org/abs/2312.16775)\n",
    "    * introの文献は基本的に全部読んでおこう"
   ]
  },
  {
   "cell_type": "markdown",
   "metadata": {},
   "source": []
  }
 ],
 "metadata": {
  "language_info": {
   "name": "python"
  }
 },
 "nbformat": 4,
 "nbformat_minor": 2
}
