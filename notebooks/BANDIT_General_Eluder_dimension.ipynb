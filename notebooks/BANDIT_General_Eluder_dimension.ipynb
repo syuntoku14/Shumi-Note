{
 "cells": [
  {
   "cell_type": "markdown",
   "metadata": {},
   "source": [
    "# バンディットとEluder Dimension \n",
    "\n",
    "参考\n",
    "* [Eluder dimension and the sample complexity of optimistic exploration](https://papers.nips.cc/paper_files/paper/2013/hash/41bfd20a38bb1b0bec75acf0845530a7-Abstract.html)\n"
   ]
  },
  {
   "cell_type": "markdown",
   "metadata": {},
   "source": [
    "**表記と設定**\n",
    "\n",
    "* 行動の集合: $\\mathcal{A}$\n",
    "* 実数関数の集合: $\\mathcal{F}=\\{f_\\rho : \\mathcal{A}\\to \\mathbb{R}\\mid \\rho \\in \\Theta\\}$\n",
    "    * $\\rho \\in \\Theta$はパラメータです\n",
    "    * 任意の$f \\in \\mathcal{F}$について$f(a) \\in [0, C]$とします．\n",
    "    * $R_t-f_\\theta(A_t)$は$\\eta$-sub-gaussianとします． \n",
    "    * 確率変数$\\theta$は真の報酬関数$f_\\theta$を表すとします．つまり，$\\mathbb{E}[R_t \\mid H_t, \\theta, A_t]=f_\\theta(A_t)$とします．\n",
    "* 時刻$t$で，報酬$R_t$を観測した後，エージェントはランダムな行動の集合$\\mathcal{A}_t \\subseteq \\mathcal{A}$から行動を一つ選択します．\n",
    "* $H_t$は履歴$(\\mathcal{A}_1, A_1, R_1, \\dots, \\mathcal{A}_{t-1}, A_{t-1}, R_{t-1}, \\mathcal{A}_t)$を表します．\n",
    "* $\\pi=\\{\\pi_t\\mid t\\in \\mathbb{N}\\}$はエージェントの方策を表します．$\\pi_t: \\mathcal{H} \\to \\Delta(\\mathcal{A})$とします．\n",
    "* $\\arg\\max_{a\\in \\mathcal{A}_t} f(a)$は空ではないとします．\n",
    "* リグレット: $\\mathcal{R}(T, \\pi)=\\sum^T_{t=1}[f_\\theta(A^*_t) - f_\\theta(A_t)]$とします．\n",
    "    * ここで，$A^*_t$は$\\arg\\max_{a\\in \\mathcal{A}_t} f_\\theta(a)$としました．\n",
    "\n",
    "**モチベーション**\n",
    "\n",
    "上の問題設定は文脈付きバンディットや線形バンディットを内包します．\n",
    "実際，[線形バンディット](./BANDIT_General_contextual.ipynb)では，$d$次元のベクトル$\\theta$について，\n",
    "報酬関数が$\\mathbb{E}[R_t \\mid H_t, \\theta, A_t]=\\langle \\theta, \\phi_t(A_t)\\rangle$であるような状況を考えました．また，各時刻で行動の集合$\\mathcal{A}_t$が与えられます．\n",
    "\n",
    "線形バンディットでは$\\widetilde{O}(d\\sqrt{T})$が最適リグレットでした．より一般の報酬関数のクラスを考えることはできないでしょうか？\n",
    "例えば，VC次元はどうでしょうか？\n"
   ]
  },
  {
   "cell_type": "markdown",
   "metadata": {},
   "source": [
    "## VC次元（ここの説明かなり分かりづらい．．．TODO: 図など）\n",
    "\n",
    "VC次元は特に二値判別問題のための仮説集合に対して定義される複雑度です．\n",
    "今回は多値判別問題を考えます．つまり，$n$個の行動の中から一つ最適なものを選択する判別問題です．\n",
    "\n",
    "* 二値関数の集合$\\mathcal{F}=\\{f_\\rho: \\mathcal{A}\\to \\{0, 1\\}\\mid \\rho \\in \\{1,\\dots, n\\}\\}$を考えましょう．\n",
    "* 行動の集合は$\\mathcal{A}=\\{1,\\dots, n\\}$とします．\n",
    "* 報酬関数はパラメータ$\\rho$に対して$f_\\rho(a)=\\mathbb{1}(\\rho=a)$を考えます．つまり，真の$a$に対する指示関数です．\n",
    "\n",
    "このとき，バンディットのVC次元を次のように定義しましょう（後で定義するEluder dimensionの説明に即しています）：\n",
    "\n",
    "---\n",
    "\n",
    "**VC独立とVC次元**\n",
    "\n",
    "次を満たすとき， **「与えられた$\\mathcal{F}$に対して行動$a$は$\\widetilde{\\mathcal{A}}\\subseteq \\mathcal{A}$に対してVC-独立である」** とします．\n",
    "* 任意の$f, \\widetilde{f}\\in \\mathcal{F}$について，次を満たす$\\bar{f}\\in \\mathcal{F}$が存在する：\n",
    "    * $\\bar{f}(a)=f(a)$であり，$\\bar{f}(\\widetilde{a})=\\widetilde{f}(\\widetilde{a})$ for all $\\widetilde{a} \\in \\widetilde{A}$\n",
    "\n",
    "例として，$n=3$を考えましょう．\n",
    "* つまり，$\\mathcal{A}=\\{1, 2, 3\\}$，$\\rho \\in \\{1, 2, 3\\}$，$\\mathcal{F}=\\{f_1, f_2, f_3\\}$です．それぞれ以下のとおりです．\n",
    "    * $f_1(1)=1, f_1(2)=0, f_1(3)=0$\n",
    "    * $f_2(1)=0, f_2(2)=1, f_2(3)=0$\n",
    "    * $f_3(1)=0, f_3(2)=0, f_3(3)=1$\n",
    "* $a=1$, $\\widetilde{\\mathcal{A}}=\\{1, 2\\}$とします\n",
    "  * $f=f_1$, $\\widetilde{f}=f_2$のとき，\n",
    "    * $f(1)=1$なので，$a$で$f=\\bar{f}$を満たすのは$\\bar{f}=f_1$だけです．一方，$\\bar{f}(2)=0\\neq \\widetilde{f}(2)=1$なので，\n",
    "「与えられた$\\mathcal{F}$に対して行動$a$は$\\widetilde{\\mathcal{A}}\\subseteq \\mathcal{A}$に対してVC-依存」です．\n",
    "* $a=1$, $\\widetilde{\\mathcal{A}}=\\{2, 3\\}$とすると，\n",
    "  * $f=f_1$, $\\widetilde{f}=f_2$のとき，\n",
    "    * $f(1)=1$なので，$a$で$f=\\bar{f}$を満たすのは$\\bar{f}=f_1$だけです．一方，$\\bar{f}(2)=0\\neq \\widetilde{f}(2)=1$なので，\n",
    "    「与えられた$\\mathcal{F}$に対して行動$a$は$\\widetilde{\\mathcal{A}}\\subseteq \\mathcal{A}$に対してVC-依存」です．\n",
    "\n",
    "上の例では，$\\bar{f}=f_1$を$\\widetilde{\\mathcal{A}}=\\{2, 3\\}$や$\\widetilde{\\mathcal{A}}=\\{1, 2\\}$で調べることで，$a=1$での$f$の値を特定することができます．\n",
    "つまり，$\\widetilde{A}$についてVC-依存な$a$では，$f(\\widetilde{a})$の値を調べることで，$a$で発生する値の集合を制限することができます．\n",
    "これを使って，VC次元は次のように定義されます：\n",
    "\n",
    "**「与えられた$\\mathcal{F}$の$\\mathcal{A}$上でのVC次元は，全ての$a\\in \\widetilde{\\mathcal{A}}$が$\\widetilde{\\mathcal{A}}\\setminus \\{a\\}$についてVC-独立であるような 最大の集合$\\widetilde{A}\\subseteq \\mathcal{A}$の要素数です．**\n",
    "\n",
    "---\n",
    "\n",
    "つまり，VC次元が大きいほど，$a=1$での$f$の値を特定しづらいわけですね．\n",
    "上の例では，VC次元は１になります．\n",
    "しかし，上の例では明らかに$n$が大きくなると問題が難しくなりそうです．つまり，VC次元はバンディット問題の一般的な複雑度を考える上では適していないかもしれません．\n",
    "次に見るEluder Dimensionでは，上の例のEluder Dimensionはちゃんと$n$になります．\n"
   ]
  },
  {
   "cell_type": "markdown",
   "metadata": {},
   "source": [
    "## VC次元\n",
    "\n",
    "VC次元は特に二値判別問題のための仮説集合に対して定義される複雑度です．\n",
    "[MATH_complexity_of_hypothesis.ipynb](MATH_complexity_of_hypothesis.ipynb)を復習しましょう．\n",
    "仮説集合$\\mathcal{F}$と入力空間$\\mathcal{X}$に対して，\n",
    "$$\n",
    "\\Pi_\\mathcal{H}(x_1, \\cdots, x_n)=|\\{(h(x_1), \\cdots, h(x_n))\\in \\mathcal{Y}^n\\mid h \\in \\mathcal{H}\\}|\n",
    "$$\n",
    "は入力の集合に対する出力の集合の要素数とします．\n",
    "すると，VC次元は\n",
    "$$\n",
    "\\operatorname{VC}(\\mathcal{H}) = \\max\\left\\{n \\in \\mathbb{N}\\mid \\max_{x_1, \\cdots, x_n\\in \\mathcal{X}} \\Pi_{\\mathcal{H}}(x_1, \\cdots, x_n) = 2^n\\right\\}\n",
    "$$\n",
    "として定義されました．\n",
    "\n",
    "ここで改めて$n$腕バンディット問題を考えましょう．つまり行動の集合は$\\mathcal{A}=\\{1,\\dots, n\\}$です．\n",
    "\n",
    "そして，\n",
    "$n$個のアームのうち，ひとつだけ１の報酬を取り，それ以外は０であるとします．すなわち，次のような報酬関数の仮説集合を考えれば十分です．\n",
    "\n",
    "* 二値関数の集合$\\mathcal{F}=\\{f_\\rho: \\mathcal{A}\\to \\{0, 1\\}\\mid \\rho \\in \\{1,\\dots, n\\}\\}$\n",
    "として，\n",
    "$f_\\rho(a)=\\mathbb{1}(\\rho=a)$とします．つまり，$f_\\rho$は真の$a$に対する指示関数です．\n",
    "\n",
    "つまり仮説集合は$|\\mathcal{F}|=n$であり，そのVC次元は1です．\n",
    "（**注意** VC次元が$n$になるのは，$\\mathcal{F}$の集合のサイズが$2^n$になる場合です．）\n",
    "しかし，このバンディット問題は明らかに$n$が大きくなると問題が難しくなります．つまり，VC次元はバンディット問題の一般的な複雑度を考える上では適していないかもしれません．\n",
    "次に見るEluder Dimensionでは，上の例のEluder Dimensionはちゃんと$n$になります．\n"
   ]
  },
  {
   "cell_type": "markdown",
   "metadata": {},
   "source": [
    "## Eluder Dimension\n",
    "\n",
    "政治家Aが，報道陣を避けながらその政治家人生を過ごす状況を考えましょう．\n",
    "Aは，なるべく自分の政治的な立ち位置（どの政党に組み入れているか?）を明らかにしないまま過ごしたいと思っています．\n",
    "しかし，自身の政治姿勢について報道の際にはなんらかの新しい情報を提供しなければならないとします．\n",
    "このとき，Aはどれくらい長く立ち位置がバレずに過ごせるでしょうか？\n",
    "\n",
    "これがEluder dimensionの根本的なアイディアです（報道陣から逃げてる政治家をイメージするとわかりやすいですね）．\n",
    "Eluder Dimensionは次で定義されます：\n",
    "\n",
    "---\n",
    "\n",
    "次を満たす時，行動$a$は，集合$\\{a_1, \\dots, a_n\\} \\subseteq \\mathcal{A}$と$\\mathcal{F}$について$\\epsilon$-依存であるといいます．\n",
    "\n",
    "$$\n",
    "\\sqrt{\\sum_{j=1}^{i-1}\\left(f(a_i)-\\widetilde{f}(a_i)\\right)^2} \\leq \\epsilon \n",
    "$$\n",
    "を満たす任意の$f, \\widetilde{f} \\in \\mathcal{F}$が$f(a) - \\widetilde{f}(a) \\leq \\epsilon$を満たす．\n",
    "\n",
    "**直感**\n",
    "\n",
    "行動$a$は，$\\{a_1, \\dots, a_n\\}$では同じような予測をするが，$a$でだけ$\\epsilon$以上に出力を変える関数$f, \\widetilde{f}\\in \\mathcal{F}$が存在するとき，$\\epsilon$-独立になります．\n",
    "例えば下の図では$n=10$について$a=8$で，$f$と$g$はdisagreeします．\n",
    "\n",
    "これを使って，Eluder dimensionは次のように定義されます．\n",
    "\n",
    "**「与えられた$\\mathcal{F}$の$\\mathcal{A}$上での$\\epsilon$に対してのEluder dimensionは，全ての$a\\in \\widetilde{\\mathcal{A}}$が$\\widetilde{\\mathcal{A}}\\setminus \\{a\\}$について$\\epsilon'$-独立であるような$\\epsilon' \\geq \\epsilon$が存在する最大の集合$\\widetilde{A}\\subseteq \\mathcal{A}$の要素数です．**\n",
    "\n",
    "Eluder dimensionは，関数クラス$\\mathcal{F}$の中の関数$f$を他の$g$と区別するために「間違える回数」の最悪ケースを表しています．\n",
    "これはVC次元とよく似ていますね．[仮説集合の複雑度](MATH_statistical_learning_theory.ipynb)の回を思い出しましょう．\n",
    "\n",
    "また，ベクトル空間の次元との対応を考えてもわかりやすいです．\n",
    "ベクトル空間の次元が$d$なのは「ベクトルが独立になるような要素の系列の最大長」でした．\n",
    "例えば$(1, 0, 0)$と$(0, 1, 0)$によって張られる空間の次元は２ですね．Eluder dimensionはこの一般化であり，線形な構造を持つ必要がないため，より一般的な問題を扱うことができます．\n"
   ]
  },
  {
   "cell_type": "code",
   "execution_count": null,
   "metadata": {},
   "outputs": [
    {
     "data": {
      "text/plain": [
       "<matplotlib.legend.Legend at 0x7f6d64428eb0>"
      ]
     },
     "metadata": {},
     "output_type": "display_data"
    },
    {
     "data": {
      "image/png": "[encoded data removed]",
      "text/plain": [
       "<Figure size 640x480 with 1 Axes>"
      ]
     },
     "metadata": {},
     "output_type": "display_data"
    }
   ],
   "source": [
    "import numpy as np\n",
    "import matplotlib.pyplot as plt\n",
    "\n",
    "x = np.linspace(0, 1.0, 10)\n",
    "\n",
    "f = x ** 2\n",
    "g = x ** 2 + 0.1\n",
    "\n",
    "g[7] += 3\n",
    "\n",
    "plt.plot(x, f, label=\"f\")\n",
    "plt.plot(x, g, label=\"g\")\n",
    "\n",
    "plt.legend()"
   ]
  },
  {
   "cell_type": "markdown",
   "metadata": {},
   "source": [
    "TODO: アルゴリズムについて"
   ]
  },
  {
   "cell_type": "code",
   "execution_count": null,
   "metadata": {},
   "outputs": [],
   "source": []
  }
 ],
 "metadata": {
  "language_info": {
   "name": "python"
  }
 },
 "nbformat": 4,
 "nbformat_minor": 2
}
