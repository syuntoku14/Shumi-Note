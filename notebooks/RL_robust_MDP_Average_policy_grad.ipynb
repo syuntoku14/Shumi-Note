{
 "cells": [
  {
   "cell_type": "markdown",
   "metadata": {},
   "source": [
    "# 平均報酬のロバストMDPでの方策勾配法\n",
    "\n",
    "参考：\n",
    "* [Policy Optimization for Robust Average Cost MDPs](https://openreview.net/pdf?id=6FPZLnp1Zn)\n",
    "\n",
    "タイトルの通り，平均報酬のロバストMDPを考えます．\n",
    "\n",
    "表記・設定：\n",
    "* $g_{\\mathrm{P}}^\\pi(s) \\triangleq \\lim _{T \\rightarrow \\infty} \\mathbb{E}_{\\mathbf{P}}\\left[\\left.\\frac{1}{T} \\sum_{t=0}^{T-1} r\\left(s_t, a_t\\right) \\right\\rvert\\, s_0=s, \\pi\\right]$\n",
    "$$\n",
    "\\begin{aligned}\n",
    "& V_{\\mathrm{P}}^\\pi(s) \\triangleq \\mathbb{E}_{\\mathrm{P}}\\left[\\sum_{t=0}^{\\infty}\\left(r\\left(s_t, a_t\\right)-g_{\\mathrm{P}}^\\pi\\right) \\mid s_0=s, \\pi\\right] \\\\\n",
    "& Q_{\\mathrm{P}}^\\pi(s, a) \\triangleq \\mathbb{E}_{\\mathrm{P}}\\left[\\sum_{t=0}^{\\infty}\\left(r\\left(s_t, a_t\\right)-g_{\\mathrm{P}}^\\pi\\right) \\mid s_0=s, a_0=a, \\pi\\right]\n",
    "\\end{aligned}\n",
    "$$\n",
    "* ベルマン方程式：$V_{\\mathrm{P}}^\\pi(s)=\\sum_{a \\in \\mathcal{A}} \\pi(a \\mid s)\\left(r(s, a)-g_{\\mathrm{P}}^\\pi(s)+\\sum_{s^{\\prime} \\in \\mathcal{S}} \\mathrm{P}_{s, s^{\\prime}}^a V_{\\mathrm{P}}^\\pi\\left(s^{\\prime}\\right)\\right)$\n",
    "* 今回は$(s, a)$-rectangularを考えます：$\\mathcal{P}=\\bigotimes_{s, a} \\mathcal{P}_s^a, \\mathcal{P}_s^a=\\left\\{q \\in \\Delta(\\mathcal{S}): D\\left(q,\\left(\\mathrm{P}_0\\right)_s^a\\right) \\leq R\\right\\}$\n",
    "  * ここで$D$は適当な分布間の違いを測る指標です\n",
    "* $g_{\\mathcal{P}}^\\pi(s) \\triangleq \\max _{\\mathbf{P} \\in \\mathcal{P}} \\lim _{T \\rightarrow \\infty} \\mathbb{E}_{\\mathbf{P}}\\left[\\left.\\frac{1}{T} \\sum_{t=0}^{T-1} r\\left(s_t, a_t\\right) \\right\\rvert\\, s_0=s, \\pi\\right]$：ロバスト平均報酬\n",
    "* ロバストベルマン方程式：$V_{\\mathcal{P}}^\\pi(s)=\\sum_{a \\in \\mathcal{A}} \\pi(a \\mid s)\\left(r(s, a)-g_{\\mathcal{P}}^\\pi(s)+\\max _{\\mathcal{P} \\in \\mathcal{P}} \\sum_{s^{\\prime} \\in \\mathcal{S}} \\mathrm{P}_{s, s^{\\prime}}^a V_{\\mathcal{P}}^\\pi\\left(s^{\\prime}\\right)\\right)$\n",
    "* 目標：$\\min _{\\pi \\in \\Pi} g_{\\mathcal{P}}^\\pi(s)$, for any $s \\in \\mathcal{S}$\n",
    "* 今回はErgodicなマルコフ連鎖を考えます"
   ]
  },
  {
   "cell_type": "markdown",
   "metadata": {},
   "source": [
    "## Robust Policy Mirror Descent\n",
    "\n",
    "次のMirror descentを考えます：\n",
    "$$\n",
    "\\pi_{k+1}=\\underset{\\pi \\in \\Pi}{\\arg \\min }\\left\\{\\eta_k\\left\\langle\\nabla g_{\\mathcal{P}}^{\\pi_k}, \\pi\\right\\rangle+D_{d_{\\mathfrak{P}}^{\\pi_k}}\\left(\\pi, \\pi_k\\right)\\right\\}\n",
    "$$\n",
    "\n",
    "ここで，$\\nabla g^\\pi_{\\mathcal{P}}$は劣勾配を表します．\n",
    "また，$D_d\\left(\\pi, \\pi^{\\prime}\\right)=\\sum_{s \\in \\mathcal{S}} d(s) D\\left(\\pi(\\cdot \\mid s), \\pi^{\\prime}(\\cdot \\mid s)\\right)$としました．\n",
    "\n",
    "劣勾配の形式から，\n",
    "\n",
    "$$\n",
    "\\pi_{k+1}(\\cdot \\mid s)=\\underset{p \\in \\Delta(\\mathcal{A})}{\\arg \\min }\\left\\{\\eta_k\\left\\langle Q_{\\mathcal{P}}^{\\pi_k}(s, \\cdot), p\\right\\rangle+D\\left(p, \\pi_k(\\cdot \\mid s)\\right)\\right\\}, \\forall s \\in \\mathcal{S} .\n",
    "$$\n",
    "\n",
    "と更新方法は同じです．"
   ]
  },
  {
   "cell_type": "markdown",
   "metadata": {},
   "source": [
    "## 収束の解析\n",
    "\n",
    "まず，次のPerformance difference lemmaが成立します：\n",
    "\n",
    "---\n",
    "\n",
    "任意の$\\pi, \\pi'$について，\n",
    "\n",
    "$$\n",
    "g_{\\mathcal{P}}^\\pi-g_{\\mathcal{P}}^{\\pi^{\\prime}} \\geq \\mathbb{E}_{s \\sim d_{\\mathcal{P}}^{\\pi^{\\prime}}}\\left[\\left\\langle Q_{\\mathcal{P}}^\\pi(s, \\cdot), \\pi(\\cdot \\mid s)-\\pi^{\\prime}(\\cdot \\mid s)\\right\\rangle\\right]\n",
    "$$\n",
    "\n",
    "---\n",
    "\n",
    "これは普通の Performance difference lemmaとほぼ同じです．証明は省略．\n",
    "また，次のPL条件も成立します：\n",
    "\n",
    "$$\n",
    "g_{\\mathcal{P}}^\\pi-g_{\\mathcal{P}}^* \\leq C_{P L} \\max _{\\hat{\\pi}}\\left\\langle\\nabla g_{\\mathcal{P}}^\\pi, \\pi-\\hat{\\pi}\\right\\rangle\n",
    "$$\n",
    "\n",
    "ここで，$C_{P L}=\\max _{\\pi, s} \\frac{d_{\\mathcal{T}}^{\\pi^*}(s)}{d_{\\mathcal{F}}^\\pi(s)}$です．\n",
    "\n"
   ]
  },
  {
   "cell_type": "code",
   "execution_count": null,
   "metadata": {
    "vscode": {
     "languageId": "plaintext"
    }
   },
   "outputs": [],
   "source": []
  }
 ],
 "metadata": {
  "language_info": {
   "name": "python"
  }
 },
 "nbformat": 4,
 "nbformat_minor": 2
}
