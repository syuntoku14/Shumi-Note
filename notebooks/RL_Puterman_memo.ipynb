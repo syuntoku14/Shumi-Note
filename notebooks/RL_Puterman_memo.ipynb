{
 "cells": [
  {
   "cell_type": "markdown",
   "metadata": {},
   "source": [
    "# Puterman本のメモ\n",
    "\n",
    "参考：\n",
    "* [Markov Decision Processes: Discrete Stochastic Dynamic Programming](https://onlinelibrary.wiley.com/doi/book/10.1002/9780470316887)\n",
    "\n",
    "Puterman本を読んだときの面白かった話のメモです．"
   ]
  },
  {
   "cell_type": "markdown",
   "metadata": {},
   "source": [
    "## ２章\n",
    "\n",
    "TODO: 2.3章のメモしよう "
   ]
  },
  {
   "cell_type": "markdown",
   "metadata": {},
   "source": [
    "## ５章：無限ホライゾンの基本\n",
    "\n",
    "---\n",
    "\n",
    "![HD_neq_MD](figs/puterman_HD_neq_MD.png)\n",
    "\n",
    "**Problem 5.11: 方策が履歴依存＆決定的でも，対応するOccupancy measureを与えるマルコフな方策が確率的でないといけない場合があります．**\n",
    "\n",
    "上の図のMDPを考えてみましょう．次の履歴依存な方策$\\kappa=\\left(d_1^\\kappa, d_2^\\kappa, \\ldots\\right)$を考えてみます：\n",
    "\n",
    "* $s_1$で選択する行動$a_{1, 1}$と$a_{1, 3}$が次のように履歴に依存します：\n",
    "1. $d_3^\\kappa\\left(s_1, a_{1,1}, s_1, a_{1,3}, s_1\\right)=a_1$：つまり，１→３なら１を選択\n",
    "2. $d_4^\\kappa\\left(s_1, a_{1,1}, s_1, a_{1,3}, s_1, a_{1,1}, s_1\\right)=a_{1,3}$：つまり，１→３→１なら３を選択\n",
    "3. 後は同じ流れ．\n",
    "\n",
    "このとき，$\\kappa$の（割引なし）occupancy measureを考えると\n",
    "\n",
    "$$\n",
    "\\begin{aligned}\n",
    "x(s_1, a_{1, 1}) &= 1 + \\gamma^2 + \\gamma^4 + \\cdots = \\frac{1}{1 - \\gamma^2}\\\\\n",
    "x(s_1, a_{1, 3}) &= \\gamma + \\gamma^3 + \\cdots = \\frac{\\gamma}{1 - \\gamma^2}\\\\\n",
    "\\end{aligned}\n",
    "$$\n",
    "\n",
    "このOccupancy measureは明らかにマルコフかつ決定的な方策では出せません（どちらかが０になります）．\n",
    "\n",
    "---\n",
    "\n"
   ]
  },
  {
   "cell_type": "markdown",
   "metadata": {},
   "source": [
    "## ６章：割引無限ホライゾン\n",
    "\n",
    "---\n",
    "\n",
    "**定理：6.1.1**\n",
    "これはよくある結果ですが，証明方法が「良い」のでメモっときます．\n",
    "\n",
    "* $0 \\leq \\lambda < 1$\n",
    "* 任意の定常方策$d^\\infty$（すべてのステップで$d \\in D^{\\mathrm{MR}}$に従う）\n",
    "\n",
    "のとき，$v^{d^\\infty}_\\lambda$は次の式の唯一の解であり，\n",
    "$$\n",
    "v=r_d+\\lambda P_d v\n",
    "$$\n",
    "さらに次で表せます：\n",
    "\n",
    "$$\n",
    "v_\\lambda^{d^x}=\\left(I-\\lambda P_d\\right)^{-1} r_d\n",
    "$$\n",
    "\n",
    "**証明**\n",
    "\n",
    "まず，次の行列ノルムを定義します：\n",
    "$$\n",
    "\\|H\\|\\triangleq \\sup_{s \\in S} \\sum_{j \\in S} |H(j\\mid s)|\n",
    "$$\n",
    "\n",
    "このとき，明らかに\n",
    "$$\n",
    "\\left\\|P_d\\right\\|=1 \\text { and } \\lambda=\\left\\|\\lambda P_d\\right\\|\n",
    "$$\n",
    "です．後は[LA_normed_linear_space.ipynb](LA_normed_linear_space.ipynb)を見てください．\n",
    "\n",
    "---\n"
   ]
  },
  {
   "cell_type": "markdown",
   "metadata": {},
   "source": [
    "**定理6.2.9**: 任意の状態空間での最適方策の議論をするために便利です．\n",
    "\n",
    "次を満たす方策$d^*$を\"conserving\"と呼ぶことにします\n",
    "\n",
    "$$\n",
    "L_{d^*} v_\\lambda^* \\equiv r_{d^*}+\\lambda P_{d^*} v_\\lambda^*=v_\\lambda^*\n",
    "$$\n",
    "\n",
    "すると，\n",
    "1. conservingな方策\n",
    "2. 最適方策\n",
    "\n",
    "のどちらかが存在する場合，決定的かつ定常な最適方策が存在します．\n",
    "\n",
    "**証明**\n",
    "\n",
    "証明は省略します（そんなに難しくないので）\n",
    "\n",
    "---\n"
   ]
  },
  {
   "cell_type": "markdown",
   "metadata": {},
   "source": [
    "**定理 6.1.11**：$S$が有限もしくは可算だとします．このとき，任意の$\\varepsilon > 0$について，$\\varepsilon$-最適な決定的かつ定常方策が存在します．\n",
    "\n",
    "ベルマン方程式から，$\\mathscr{L} v_\\lambda^*=v_\\lambda^*$です（このベルマン作用素は$\\sup$バージョンです）．$\\varepsilon > 0$について，次を満たす$d_{\\varepsilon} \\in D^{\\mathrm{MD}}$を選びます：\n",
    "\n",
    "$$\n",
    "r_{d_{\\varepsilon}}+\\lambda P_{d_{\\varepsilon}} v_\\lambda^* \\geq \\sup _{d \\in D^{\\mathrm{MD}}}\\left\\{r_d+\\lambda P_d v_\\lambda^*\\right\\}-(1-\\lambda) \\varepsilon e=v_\\lambda^*-(1-\\lambda) \\varepsilon e\n",
    "$$\n",
    "\n",
    "変形して，\n",
    "\n",
    "$$\n",
    "r_{d_{\\varepsilon}} \\geq (I - \\lambda P_{d_{\\varepsilon}} )v_\\lambda^*-(1-\\lambda) \\varepsilon e\n",
    "$$\n",
    "\n",
    "$v_\\lambda^{\\left(d_\\varepsilon\\right)^{\\infty}}=\\left(I-\\lambda P_{d_\\varepsilon}\\right)^{-1} r_{d_\\varepsilon}$なので，両辺に$\\left(I-\\lambda P_{d_\\varepsilon}\\right)^{-1}$をかけると\n",
    "$$\n",
    "v_\\lambda^{\\left(d_\\varepsilon\\right)^\\infty} \\geq v_\\lambda^*-\\varepsilon e\n",
    "$$\n",
    "であり，これは$\\varepsilon$-最適方策です．\n"
   ]
  },
  {
   "cell_type": "markdown",
   "metadata": {},
   "source": [
    "\n",
    "---\n",
    "\n",
    "**例6.2.3**：状態空間を任意にとると，ベルマン作用素で$\\max$が取れたとしても，最適方策が存在しない場合があります．\n",
    "\n",
    "* 状態空間：$S=[0, 1]$\n",
    "* 行動空間：$A=[0, 1]$\n",
    "* $B$：$[0, 1] \\times [0, 1]$の部分集合\n",
    "* $W\\subseteq S$：非ボレルな$S$上の部分集合（本ではprojection on $S$って言ってるけど，多分同じな気がする）\n",
    "\n",
    "を考えます．\n",
    "\n",
    "ここで，\n",
    "* 報酬：$r(s, a)=I_{\\{B\\}}(s, a)$とします．これは$(s, a) \\in B$なら$1$, そうでなければ$0$です．\n",
    "* 遷移：任意の$a \\in A$で$P(s\\mid s, a)=1$とします．つまり，どの行動を取っても同じ状態から動きません．\n",
    "* $\\pi=\\left(d_1, d_2, \\ldots\\right) \\in \\Pi^{H R}$とします．$d_1(\\cdot)$は$s$のみに依存する関数です．\n",
    "\n",
    "このとき，\n",
    "* 最初の行動は$s_1$に依存するので，$d_1$は可測かつ$r_{d_1}(s)=r(s, d_1(s))$も可測です．\n",
    "* よって，$Q=\\{s: r_{d_1}(s)=1\\}$は$S$上のボレル部分集合です．（$Q$はつまり$B$と同じ？）．定義より，$Q$は$W$に含まれます．\n",
    "\n",
    "**TODO: ここやっぱよくわからんな，２章をまとめてからもっかい書こう**\n"
   ]
  },
  {
   "cell_type": "markdown",
   "metadata": {},
   "source": [
    "\n",
    "---\n",
    "\n"
   ]
  },
  {
   "cell_type": "markdown",
   "metadata": {},
   "source": []
  },
  {
   "cell_type": "markdown",
   "metadata": {},
   "source": []
  }
 ],
 "metadata": {
  "language_info": {
   "name": "python"
  }
 },
 "nbformat": 4,
 "nbformat_minor": 2
}
