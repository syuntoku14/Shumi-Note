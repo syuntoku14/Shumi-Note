{
 "cells": [
  {
   "attachments": {},
   "cell_type": "markdown",
   "metadata": {},
   "source": [
    "# グラフ理論の基礎\n",
    "\n",
    "参考\n",
    "* [グラフ理論の基礎](https://manabitimes.jp/math/895)\n",
    "\n",
    "点の集合$V$と二点間を結ぶ辺の集合$A$のペアのことをグラフといいます．\n",
    "\n",
    "用語\n",
    "* 頂点の次数：頂点から出ている辺の本数\n",
    "* 連結：どの頂点からどの頂点へも伝っていくことができるグラフ\n",
    "* パス：隣接する頂点を辿ったもの．\n",
    "* サイクル：隣接する頂点を辿ったもので，始点と終点が同じもの．同じ辺を二回通るのはダメ\n",
    "* 木：閉路が存在しない連結なグラフ\n",
    "* 二部グラフ：頂点が二つのグループに別れており，異なるグループの頂点間にのみ辺が引かれているグラフ\n",
    "* 完全グラフ：全ての頂点間に辺が引かれているグラフ．\n",
    "* 完全二部グラフ：二部グラフかつ異なるグループの頂点間には全て辺が引かれているグラフ．"
   ]
  },
  {
   "attachments": {},
   "cell_type": "markdown",
   "metadata": {},
   "source": [
    "## 有向グラフ\n",
    "\n",
    "* $G=(V, A; \\partial^+, \\partial^-)$のこと\n",
    "* $v$から出ていく方のエッジ：$\\delta^{+} v=\\left\\{a \\mid a \\in A, \\partial^{+} a=v\\right\\}$\n",
    "* $v$に入る方のエッジ：$\\delta^{-} v=\\left\\{a \\mid a \\in A, \\partial^{-} a=v\\right\\}$\n",
    "\n",
    "![directed](figs/directed_graph.png)\n",
    "\n",
    "![directed2](figs/directed2.png)"
   ]
  },
  {
   "attachments": {},
   "cell_type": "markdown",
   "metadata": {},
   "source": [
    "## 無向グラフ\n",
    "\n",
    "* $\\partial e=\\{\\partial^+ e, \\partial^- e\\}$\n",
    "* $\\delta v=\\{e \\mid e \\in E, v \\in \\partial e\\}$\n",
    "* $G=(V, E ; \\partial)$によって表されるグラフのこと．"
   ]
  },
  {
   "cell_type": "code",
   "execution_count": null,
   "metadata": {},
   "outputs": [],
   "source": []
  }
 ],
 "metadata": {
  "language_info": {
   "name": "python"
  },
  "orig_nbformat": 4
 },
 "nbformat": 4,
 "nbformat_minor": 2
}
