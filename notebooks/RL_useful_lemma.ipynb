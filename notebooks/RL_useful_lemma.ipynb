{
 "cells": [
  {
   "cell_type": "markdown",
   "metadata": {},
   "source": [
    "# RLの証明に便利な定理\n",
    "\n",
    "表記は元論文や雰囲気におまかせします．"
   ]
  },
  {
   "cell_type": "markdown",
   "metadata": {},
   "source": [
    "## Simulation Lemma\n",
    "\n",
    "---\n",
    "\n",
    "**補題: Extended Value Difference**\n",
    "\n",
    "参考：\n",
    "* [Exploration-Exploitation in Constrained MDPs](https://arxiv.org/abs/2003.02189)の補題34など\n",
    "\n",
    "表記：\n",
    "* 方策：$\\pi, \\pi'$\n",
    "* MDP：$\\mathcal{M}=(\\mathcal{S}, \\mathcal{A}, \\{p_h\\}_{h=1}^H, \\{r_h\\}_{h=1}^H)$と$\\mathcal{M}'=(\\mathcal{S}, \\mathcal{A}, \\{p_h'\\}_{h=1}^H, \\{r_h'\\}_{h=1}^H)$\n",
    "* $\\widehat{Q}_h^\\pi(s, a; r, p)$を$\\mathcal{M}$でのQ関数の近似\n",
    "* $\\widehat{V}_h^\\pi(s; r, p)=\\left\\langle \\widehat{Q}_h^\\pi(s, \\cdot; r, p), \\pi_h(\\cdot \\mid s)\\right\\rangle$\n",
    "\n",
    "のとき，\n",
    "\n",
    "$$\n",
    "\\begin{aligned}\n",
    "\\widehat{V}_h^\\pi(s; r, p)\n",
    "-\n",
    "{V}_h^{\\pi'}(s; r', p')\n",
    "=\n",
    "&\\sum^{H}_{h=1}\\mathbb{E}\\left[\n",
    "\\left\\langle \\widehat{Q}_h^\\pi(s_h, \\cdot; r, p), \\pi_h'(\\cdot \\mid s_h) - \\pi_h(\\cdot \\mid s_h)\\right\\rangle\n",
    "\\mid s_1, \\pi', p'\n",
    "\\right]\n",
    "+ \\\\\n",
    "&\\sum^{H}_{h=1}\\mathbb{E}\\left[\n",
    "\\widehat{Q}_h^\\pi(s_h, a_h; r, p) - r_h'(s_h, a_h) - p_h'(\\cdot \\mid s_h, a_h)\\widehat{V}_{h+1}^\\pi(\\cdot; r, p) \\mid s_1, \\pi', p'\n",
    "\\right]\n",
    "\\end{aligned}\n",
    "$$"
   ]
  },
  {
   "cell_type": "markdown",
   "metadata": {},
   "source": [
    "\n",
    "---\n",
    "\n",
    "## Good Set\n",
    "\n",
    "参考：\n",
    "* [Tight Regret Bounds for Model-Based Reinforcement Learning with Greedy Policies]()のAppendix F.1\n",
    "* [Tighter Problem-Dependent Regret Bounds in Reinforcement Learning without Domain Knowledge using Value Function Bounds]()のAppendix G\n",
    "\n",
    "直感的には，次の$L_k$は状態行動空間を「十分訪れたことがある集合（訪問回数を下から集中不等式で抑えられるようにするため）」と「そんなに訪れたことがない集合（高いリグレットを引きおこしかねない）」に分割します．\n",
    "\n",
    "**定義: Good Set**\n",
    "\n",
    "次の集合$L_k$を定義します：\n",
    "\n",
    "$$\n",
    "L_k:= \\left\\{\n",
    "(s, a) \\in \\mathcal{S}\\times \\mathcal{A}: \n",
    "\\frac{1}{4}\n",
    "\\sum_{j<k} w_j(s, a) \\geq H \\ln \\frac{SAH}{\\delta'} + H\n",
    "\\right\\}\n",
    "$$\n",
    "\n",
    "ここで，$w_j(s, a):= \\sum_{t=1}^H w_{tj}(s, a)$であり，$w_{tj}(s, a)$はエピソード$j$のステップ$t \\in [H]$で$(s, a)$を訪れる確率です．\n",
    "\n",
    "\n",
    "**補題**\n",
    "\n",
    "参考：\n",
    "\n",
    "**補題: Visitation Ratio**\n",
    "\n"
   ]
  },
  {
   "cell_type": "code",
   "execution_count": null,
   "metadata": {},
   "outputs": [],
   "source": []
  }
 ],
 "metadata": {
  "language_info": {
   "name": "python"
  }
 },
 "nbformat": 4,
 "nbformat_minor": 2
}
