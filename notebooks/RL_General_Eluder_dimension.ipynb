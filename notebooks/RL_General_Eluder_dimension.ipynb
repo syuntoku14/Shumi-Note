{
 "cells": [
  {
   "cell_type": "markdown",
   "metadata": {},
   "source": [
    "# 強化学習とEluder dimension\n",
    "\n",
    "参考\n",
    "* モデルベース：遷移と報酬関数のクラスの複雑度がEluder dimensionで抑えられてます．\n",
    "    * [Model-based Reinforcement Learning and the Eluder Dimension](https://arxiv.org/abs/1406.1853)\n",
    "    * [Model-Based Reinforcement Learning with Value-Targeted Regression](https://arxiv.org/abs/2006.01107)\n",
    "* モデルフリー：ベルマンバックアップのクラスの複雑度がEluder dimensionで抑えられてます．\n",
    "    * [Reinforcement Learning with General Value Function Approximation: Provably Efficient Approach via Bounded Eluder Dimension](https://arxiv.org/abs/2005.10804)\n",
    "* Bellman Eluder dimension：[Bellman rank](RL_General_Bellman_rank.ipynb)とモデルフリーのEluder dimensionの両方を含みます．\n",
    "    * [Bellman Eluder Dimension: New Rich Classes of RL Problems, and Sample-Efficient Algorithms](https://arxiv.org/abs/2102.00815)"
   ]
  },
  {
   "cell_type": "markdown",
   "metadata": {},
   "source": [
    "[前回](BANDIT_General_Eluder_dimension.ipynb)，報酬関数のクラスの複雑度がEluder dimensionで抑えられる場合について扱いました．\n",
    "今回は強化学習版です．\n",
    "\n",
    "## モデルベースのEluder dimension\n",
    "\n",
    "参考：\n",
    "* [Model-based Reinforcement Learning and the Eluder Dimension](https://arxiv.org/abs/1406.1853)\n",
    "* [Model-Based Reinforcement Learning with Value-Targeted Regression](https://arxiv.org/abs/2006.01107)\n",
    "\n",
    "上の論文では，遷移カーネル$P$の関数クラス$\\mathcal{P}$に対してEluder dimensionを考えています．\n",
    "\n",
    "## モデルフリーのEluder dimension\n",
    "\n",
    "参考：\n",
    "* [Reinforcement Learning with General Value Function Approximation: Provably Efficient Approach via Bounded Eluder Dimension](https://arxiv.org/abs/2005.10804)\n",
    "\n",
    "関数クラス\n",
    "$$\n",
    "\\mathcal{F} \\subseteq\\{f: \\mathcal{S} \\times \\mathcal{A} \\rightarrow\n",
    "[0, H+1]\\}\n",
    "$$\n",
    "を考え，また，次のようにベルマンバックアップが$\\mathcal{F}$について閉じていることを仮定します：\n",
    "任意の$V: \\mathcal{S}\\to [0, H]$に対して，次を満たす$f_V\\in \\mathcal{F}$が存在する：\n",
    "$$\n",
    "f_V(s, a)=r(s, a)+\\sum_{s^{\\prime} \\in \\mathcal{S}} P\\left(s^{\\prime} \\mid s, a\\right) V\\left(s^{\\prime}\\right) \\quad \\forall(s, a) \\in \\mathcal{S} \\times \\mathcal{A}\n",
    "$$\n",
    "\n",
    "この仮定はよくあるMDPでは満足されます．\n",
    "例えば\n",
    "* テーブルMDPでは$\\mathcal{F}$は$\\mathcal{S}\\times \\mathcal{A}\\to [0, H+1]$の全関数クラスであり，ベルマンバックアップは閉じています\n",
    "* Linear MDPでは報酬と遷移が線形であり，線形関数のクラス$\\mathcal{F}$はベルマンバックアップについて閉じています．\n",
    "\n",
    "上の論文では，このようなQ関数についての関数クラス$\\mathcal{F}$に対してEluder dimensionを考えています．\n"
   ]
  },
  {
   "cell_type": "markdown",
   "metadata": {},
   "source": [
    "## Bellman Eluder Dimension\n",
    "\n",
    "TODO: "
   ]
  },
  {
   "cell_type": "code",
   "execution_count": null,
   "metadata": {},
   "outputs": [],
   "source": []
  }
 ],
 "metadata": {
  "language_info": {
   "name": "python"
  }
 },
 "nbformat": 4,
 "nbformat_minor": 2
}
