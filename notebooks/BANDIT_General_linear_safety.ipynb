{
 "cells": [
  {
   "cell_type": "markdown",
   "metadata": {},
   "source": [
    "# 線形バンディットにおける安全性の保証\n",
    "\n",
    "参考：\n",
    "* [Stochastic Bandits with Linear Constraints](https://arxiv.org/abs/2006.10185)\n",
    "\n",
    "今回は制約を守りながらアームを引く線形バンディットを考えます．\n",
    "実は制約の設定にも色々あります．\n",
    "* ナップサックバンディット：予算を使い切らないように，報酬の最大化を目指す\n",
    "* Conservative バンディット：ベースライン方策の総報酬を下回らないようにアームを引き続ける\n",
    "* Stage-wise バンディット：上の２つは「アルゴリズムの引いた履歴」に制約が依存することに注意しよう．一方で，Stage-wiseバンディットはその場の制約だけ気にするので，履歴に非依存．\n",
    "\n",
    "表記：\n",
    "* アームの集合：$\\mathcal{A}$\n",
    "* アームの引き方の方策$\\pi_t$\n",
    "* 報酬とコスト：$\\mathrm{e} r_t=\\left\\langle x_t, \\theta_*\\right\\rangle+\\xi_t^r$ and $c_t=\\left\\langle x_t, \\mu_*\\right\\rangle+\\xi_t^c$\n",
    "  * ここで，$\\theta_* \\in \\mathbf{R}^d$と$\\theta_*\\in \\mathbf{R}^d$は未知です．\n",
    "  * 守るべき制約：$\\mathbb{E}_{x \\sim \\pi_t}\\left[\\left\\langle x, \\mu_*\\right\\rangle\\right] \\leq \\tau, \\quad \\forall t \\in[T]$,\n",
    "* 疑似リグレット：$\\mathcal{R}_{\\Pi}(T)=\\sum_{t=1}^T \\mathbb{E}_{x \\sim \\pi_t^*}\\left[\\left\\langle x, \\theta_*\\right\\rangle\\right]-E_{x \\sim \\pi_t}\\left[\\left\\langle x, \\theta_*\\right\\rangle\\right]$\n",
    "  * 略記：$\\mathcal{R}_{\\Pi}(T)=\\sum_{t=1}^T r_{\\pi_t^*}-r_{\\pi_t}$\n",
    "* ノイズの仮定（R-subgaussian）：$\\begin{array}{lll}\\mathbb{E}\\left[\\xi_t^r \\mid \\mathcal{F}_{t-1}\\right]=0, & \\mathbb{E}\\left[\\exp \\left(\\alpha \\xi_t^r\\right) \\mid \\mathcal{F}_{t-1}\\right] \\leq \\exp \\left(\\alpha^2 R^2 / 2\\right), & \\forall \\alpha \\in \\mathbb{R}, \\\\ \\mathbb{E}\\left[\\xi_t^c \\mid \\mathcal{F}_{t-1}\\right]=0, & \\mathbb{E}\\left[\\exp \\left(\\alpha \\xi_t^c\\right) \\mid \\mathcal{F}_{t-1}\\right] \\leq \\exp \\left(\\alpha^2 R^2 / 2\\right), & \\forall \\alpha \\in \\mathbb{R},\\end{array}$\n",
    "* $\\left\\|\\theta_*\\right\\| \\leq S$ and $\\left\\|\\mu_*\\right\\| \\leq S^2$ を満たす定数$S$が既知\n",
    "* $\\max _{t \\in[T]} \\max _{x \\in \\mathcal{A}_t}\\|x\\| \\leq L$.\n",
    "* 報酬は有界：$\\left\\langle x, \\theta_*\\right\\rangle \\in[0, 1]$かつ$\\left\\langle x, \\mu_*\\right\\rangle \\in [0, 1]$\n",
    "* 安全な行動$x_0$とそのコストが既知：$\\langle x_0, \\mu_*\\rangle = c_0 < \\tau$\n",
    "  * 正規化された安全方策：$e_0:=x_0 /\\left\\|x_0\\right\\|$\n",
    "  * 安全方策のスパン：$\\mathcal{V}_o:=\\operatorname{span}\\left(x_0\\right)=\\left\\{\\eta x_0: \\eta \\in \\mathbb{R}\\right\\}$\n",
    "  * その核空間：$\\mathcal{V}_o^{\\perp}=\\left\\{x \\in \\mathbb{R}^d:\\langle x, y\\rangle=0, \\forall y \\in \\mathcal{V}_o\\right\\}$\n",
    "  * $\\mathcal{V}_o$への$x$の射影：$x^o:=\\left\\langle x, e_0\\right\\rangle e_0$\n",
    "  * $\\mathcal{V}^\\perp_o$への$x$の射影：$x^{o, \\perp}:=x - x^o$"
   ]
  },
  {
   "cell_type": "markdown",
   "metadata": {},
   "source": [
    "## Optimistic-Pessimistic Linear Banditアルゴリズム\n",
    "\n",
    "1. $\\theta_*$を推定します：$\\widehat{\\theta}_t=\\Sigma_t^{-1} \\sum_{s=1}^{t-1} r_s x_s$\n",
    "   * ここで，$\\Sigma_t=\\lambda I+\\sum_{s=1}^{t-1} x_s x_s^{\\top}$はグラム行列です．\n",
    "2. $\\mu_*$の核空間への射影を推定します：$\\widehat{\\mu}_t^{o, \\perp}=\\left(\\Sigma_t^{o, \\perp}\\right)^{-1} \\sum_{s=1}^{t-1} c_s^{o, \\perp} x_s^{o, \\perp}$\n",
    "   * ここで，$\\Sigma_t^{o, \\perp}=\\lambda I_{\\mathcal{V}_{\\circ}^{\\perp}}+\\sum_{s=1}^{t-1} x_s^{o, \\perp}\\left(x_s^{o, \\perp}\\right)^{\\top}$\n",
    "   * $c_t^{o, \\perp}=c_t-\\frac{\\left\\langle x_t, e_0\\right\\rangle}{\\left\\|x_0\\right\\|} c_0$（これの導出は省略）\n",
    "   * $I_{\\mathcal{V}_o^{\\perp}}=I_{d \\times d}-\\frac{1}{\\left\\|x_0\\right\\|^2} x_0 x_0^{\\top}$.\n",
    "   * ここで注意として，$\\Sigma_t^{o, \\perp}$は階数不足の可能性があります．その場合は疑似逆行列を取ることにします．\n",
    "3. 信頼集合を計算します：\n",
    "$\n",
    "\\mathcal{C}_t^r\\left(\\alpha_r\\right)=\\left\\{\\theta \\in \\mathbb{R}^d:\\left\\|\\theta-\\widehat{\\theta}_t\\right\\|_{\\Sigma_t} \\leq \\alpha_r \\beta_t(\\delta, d)\\right\\}, \\quad \\mathcal{C}_t^c\\left(\\alpha_c\\right)=\\left\\{\\mu \\in \\mathcal{V}_o^{\\perp}:\\left\\|\\mu-\\widehat{\\mu}_t^{o, \\perp}\\right\\|_{\\Sigma_t^{o, \\perp}} \\leq \\alpha_c \\beta_t(\\delta, d-1)\\right\\},\n",
    "$\n",
    "   * ここで，$\\beta_t(\\delta, d)=R \\sqrt{d \\log \\left(\\frac{1+(t-1) L^2 / \\lambda}{\\delta}\\right)}+\\sqrt{\\lambda} S$です．これはYadkoriの信頼半径を使って設計してます．[BANDIT_General_linear_improved](BANDIT_General_linear_improved.ipynb)参照．\n",
    "4. Optimisticな報酬とPessimisticなコストを計算します：$\\widetilde{r}_{\\pi, t}:=\\max _{\\theta \\in \\mathcal{C}_t^r\\left(\\alpha_r\\right)} \\mathbb{E}_{x \\sim \\pi}[\\langle x, \\theta\\rangle], \\quad \\widetilde{c}_{\\pi, t}:=\\frac{\\left\\langle x_\\pi^o, e_0\\right\\rangle c_0}{\\left\\|x_0\\right\\|}+\\max _{\\mu \\in \\mathcal{C}_t^c\\left(\\alpha_c\\right)} \\mathbb{E}_{x \\sim \\pi}[\\langle x, \\mu\\rangle]$\n",
    "   * これは解析解が書けます（証明と表記略．Proposition 1を見てね）\n",
    "5. 安全な方策の集合を構築します：$\\Pi_t=\\left\\{\\pi \\in \\Delta_{\\mathcal{A}_t}: \\widetilde{c}_{\\pi, t} \\leq \\tau\\right\\}$\n",
    "   * 実は，$\\Pi_t$には確率１で$x_0$が入っていることが言えます．なぜなら，\n",
    "   $x_{\\pi_0}^o=x_0, x_{\\pi_0}^{o, \\perp}=0$, and $\\frac{\\left\\langle x_{\\pi_0}^o, e_0\\right\\rangle c_0}{\\left\\|x_0\\right\\|}=c_0$であり，さらに$C^c_t$は$\\mu\\in \\mathcal{V}_o^\\perp$の部分集合なので，Pessimisticの２項目が零になります．\n",
    "   * また，$\\Pi_t$に入っているすべての方策は確率$1-\\delta$以上でFeasibleであることも言えます．\n",
    "6. あとは貪欲に行動を選択します\n",
    "\n",
    "\n",
    "**注意**\n",
    "\n",
    "**このアルゴリズムの効率良い計算方法は与えられてないっぽいです．**\n",
    "実際，\n",
    "$$\n",
    "\\begin{aligned}\n",
    "\\max _{\\pi \\in \\Delta}\\left\\langle\\mathcal{A}_t\\right. & \\left\\langle x_\\pi, \\widehat{\\theta}_t\\right\\rangle+\\alpha_r \\beta_t(\\delta, d)\\left\\|x_\\pi\\right\\|_{\\Sigma_t^{-1}} \\\\\n",
    "\\quad \\text { s.t. } & \\frac{\\left\\langle x_\\pi^o, e_0\\right\\rangle c_0}{\\left\\|x_0\\right\\|}+\\left\\langle x_\\pi^{o, \\perp}, \\widehat{\\mu}_t^{o, \\perp}\\right\\rangle+\\alpha_c \\beta_t(\\delta, d-1)\\left\\|x_\\pi^{o, \\perp}\\right\\|_{\\left(\\Sigma_t^{o, \\perp}\\right)^{-1}} \\leq \\tau .\n",
    "\\end{aligned}\n",
    "$$\n",
    "を解く必要がありますが，安全な方策の集合$\\Pi_t$が計算できないっぽいですね．"
   ]
  },
  {
   "cell_type": "markdown",
   "metadata": {},
   "source": [
    "## 別の論文\n",
    "\n",
    "* [Safe Linear Thompson Sampling With Side Information](https://ieeexplore.ieee.org/abstract/document/9457159?casa_token=jVBRjCJq8qUAAAAA:tAiIIRDNw8UreUJQhszji5fboRk-qFxRVJf7Q9NHxFQl2okLvIszZl5sVFw-jtzGA2jReFrFuAfX)：Thompson samplingを考えてます．今回はパス．\n",
    "* [Linear Stochastic Bandits Under Safety Constraints](https://arxiv.org/abs/1908.05814)\n",
    "\n"
   ]
  }
 ],
 "metadata": {
  "language_info": {
   "name": "python"
  }
 },
 "nbformat": 4,
 "nbformat_minor": 2
}
